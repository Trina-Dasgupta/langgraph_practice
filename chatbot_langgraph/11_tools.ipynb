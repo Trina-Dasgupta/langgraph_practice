{
 "cells": [
  {
   "cell_type": "code",
   "execution_count": 1,
   "id": "e0d6b8e6",
   "metadata": {},
   "outputs": [],
   "source": [
    "from langgraph.graph import StateGraph, START, END\n",
    "from typing import TypedDict, Annotated\n",
    "from langchain_core.messages import BaseMessage, HumanMessage\n",
    "from langchain_openai import ChatOpenAI\n",
    "from langgraph.graph.message import add_messages\n",
    "from dotenv import load_dotenv\n",
    "\n",
    "from langgraph.prebuilt import ToolNode, tools_condition\n",
    "from langchain_community.tools import DuckDuckGoSearchRun\n",
    "from langchain_core.tools import tool\n",
    "\n",
    "import requests\n",
    "import random"
   ]
  },
  {
   "cell_type": "code",
   "execution_count": 2,
   "id": "917eac39",
   "metadata": {},
   "outputs": [
    {
     "data": {
      "text/plain": [
       "True"
      ]
     },
     "execution_count": 2,
     "metadata": {},
     "output_type": "execute_result"
    }
   ],
   "source": [
    "load_dotenv()"
   ]
  },
  {
   "cell_type": "code",
   "execution_count": 3,
   "id": "b5bde687",
   "metadata": {},
   "outputs": [],
   "source": [
    "llm = ChatOpenAI()"
   ]
  },
  {
   "cell_type": "code",
   "execution_count": 4,
   "id": "47e27324",
   "metadata": {},
   "outputs": [],
   "source": [
    "# Tools\n",
    "search_tool = DuckDuckGoSearchRun(region=\"us-en\")\n",
    "\n",
    "@tool\n",
    "def calculator(first_num: float, second_num: float, operation: str) -> dict:\n",
    "    \"\"\"\n",
    "    Perform a basic arithmetic operation on two numbers.\n",
    "    Supported operations: add, sub, mul, div\n",
    "    \"\"\"\n",
    "    try:\n",
    "        if operation == \"add\":\n",
    "            result = first_num + second_num\n",
    "        elif operation == \"sub\":\n",
    "            result = first_num - second_num\n",
    "        elif operation == \"mul\":\n",
    "            result = first_num * second_num\n",
    "        elif operation == \"div\":\n",
    "            if second_num == 0:\n",
    "                return {\"error\": \"Division by zero is not allowed\"}\n",
    "            result = first_num / second_num\n",
    "        else:\n",
    "            return {\"error\": f\"Unsupported operation '{operation}'\"}\n",
    "        \n",
    "        return {\"first_num\": first_num, \"second_num\": second_num, \"operation\": operation, \"result\": result}\n",
    "    except Exception as e:\n",
    "        return {\"error\": str(e)}\n",
    "\n",
    "\n",
    "@tool\n",
    "def get_stock_price(symbol: str) -> dict:\n",
    "    \"\"\"\n",
    "    Fetch latest stock price for a given symbol (e.g. 'AAPL', 'TSLA') \n",
    "    using Alpha Vantage with API key in the URL.\n",
    "    \"\"\"\n",
    "    url = f\"https://www.alphavantage.co/query?function=GLOBAL_QUOTE&symbol={symbol}&apikey=C9PE94QUEW9VWGFM\"\n",
    "    r = requests.get(url)\n",
    "    return r.json()"
   ]
  },
  {
   "cell_type": "code",
   "execution_count": 6,
   "id": "207d348b",
   "metadata": {},
   "outputs": [],
   "source": [
    "# Make tool list\n",
    "tools = [get_stock_price, search_tool, calculator]\n",
    "\n",
    "# Make the LLM tool-aware\n",
    "llm_with_tools = llm.bind_tools(tools)"
   ]
  },
  {
   "cell_type": "code",
   "execution_count": 5,
   "id": "96a19228",
   "metadata": {},
   "outputs": [],
   "source": [
    "# state\n",
    "class ChatState(TypedDict):\n",
    "    messages: Annotated[list[BaseMessage], add_messages]"
   ]
  },
  {
   "cell_type": "code",
   "execution_count": 7,
   "id": "7817ad74",
   "metadata": {},
   "outputs": [],
   "source": [
    "# graph nodes\n",
    "def chat_node(state: ChatState):\n",
    "    \"\"\"LLM node that may answer or request a tool call.\"\"\"\n",
    "    messages = state['messages']\n",
    "    response = llm_with_tools.invoke(messages)\n",
    "    return {\"messages\": [response]}\n",
    "\n",
    "tool_node = ToolNode(tools)  # Executes tool calls"
   ]
  },
  {
   "cell_type": "code",
   "execution_count": 8,
   "id": "9ff21bcc",
   "metadata": {},
   "outputs": [
    {
     "data": {
      "text/plain": [
       "<langgraph.graph.state.StateGraph at 0x2572ae15fd0>"
      ]
     },
     "execution_count": 8,
     "metadata": {},
     "output_type": "execute_result"
    }
   ],
   "source": [
    "# graph structure\n",
    "graph = StateGraph(ChatState)\n",
    "graph.add_node(\"chat_node\", chat_node)\n",
    "graph.add_node(\"tools\", tool_node)"
   ]
  },
  {
   "cell_type": "code",
   "execution_count": 9,
   "id": "288d8d18",
   "metadata": {},
   "outputs": [
    {
     "data": {
      "text/plain": [
       "<langgraph.graph.state.StateGraph at 0x2572ae15fd0>"
      ]
     },
     "execution_count": 9,
     "metadata": {},
     "output_type": "execute_result"
    }
   ],
   "source": [
    "graph.add_edge(START, \"chat_node\")\n",
    "\n",
    "# If the LLM asked for a tool, go to ToolNode; else finish\n",
    "graph.add_conditional_edges(\"chat_node\", tools_condition)\n",
    "\n",
    "graph.add_edge(\"tools\", \"chat_node\")  "
   ]
  },
  {
   "cell_type": "code",
   "execution_count": 10,
   "id": "97f167ee",
   "metadata": {},
   "outputs": [
    {
     "data": {
      "image/png": "[encoded data removed]",
      "text/plain": [
       "<langgraph.graph.state.CompiledStateGraph object at 0x000002572B128590>"
      ]
     },
     "execution_count": 10,
     "metadata": {},
     "output_type": "execute_result"
    }
   ],
   "source": [
    "chatbot = graph.compile()\n",
    "\n",
    "chatbot"
   ]
  },
  {
   "cell_type": "code",
   "execution_count": 11,
   "id": "1ce75d5b",
   "metadata": {},
   "outputs": [
    {
     "name": "stdout",
     "output_type": "stream",
     "text": [
      "Hello! How can I assist you today?\n"
     ]
    }
   ],
   "source": [
    "# Regular chat\n",
    "out = chatbot.invoke({\"messages\": [HumanMessage(content=\"Hello!\")]})\n",
    "\n",
    "print(out[\"messages\"][-1].content)"
   ]
  },
  {
   "cell_type": "code",
   "execution_count": 12,
   "id": "a9c0c6df",
   "metadata": {},
   "outputs": [
    {
     "name": "stdout",
     "output_type": "stream",
     "text": [
      "The result of 2 * 3 is 6.\n"
     ]
    }
   ],
   "source": [
    "# Chat requiring tool\n",
    "out = chatbot.invoke({\"messages\": [HumanMessage(content=\"What is 2*3?\")]})\n",
    "print(out[\"messages\"][-1].content)"
   ]
  },
  {
   "cell_type": "code",
   "execution_count": 13,
   "id": "f2075f5b",
   "metadata": {},
   "outputs": [
    {
     "name": "stdout",
     "output_type": "stream",
     "text": [
      "The current stock price of Apple (AAPL) is $238.99.\n"
     ]
    }
   ],
   "source": [
    "# Chat requiring tool\n",
    "out = chatbot.invoke({\"messages\": [HumanMessage(content=\"What is the stock price of apple\")]})\n",
    "print(out[\"messages\"][-1].content)"
   ]
  },
  {
   "cell_type": "code",
   "execution_count": 14,
   "id": "2df28c52",
   "metadata": {},
   "outputs": [
    {
     "name": "stdout",
     "output_type": "stream",
     "text": [
      "The current stock price of Apple (AAPL) is $238.99 per share. \n",
      "To purchase 50 shares of Apple, it will cost $11,949.50.\n"
     ]
    }
   ],
   "source": [
    "# Chat requiring tool\n",
    "out = chatbot.invoke({\"messages\": [HumanMessage(content=\"First find out the stock price of Apple using get stock price tool then use the calculator tool to find out how much will it take to purchase 50 shares?\")]})\n",
    "print(out[\"messages\"][-1].content)"
   ]
  },
  {
   "cell_type": "code",
   "execution_count": null,
   "id": "c3b5d12a",
   "metadata": {},
   "outputs": [],
   "source": []
  }
 ],
 "metadata": {
  "kernelspec": {
   "display_name": "myenv (3.13.5)",
   "language": "python",
   "name": "python3"
  },
  "language_info": {
   "codemirror_mode": {
    "name": "ipython",
    "version": 3
   },
   "file_extension": ".py",
   "mimetype": "text/x-python",
   "name": "python",
   "nbconvert_exporter": "python",
   "pygments_lexer": "ipython3",
   "version": "3.13.5"
  }
 },
 "nbformat": 4,
 "nbformat_minor": 5
}
