{
 "cells": [
  {
   "cell_type": "code",
   "execution_count": 1,
   "id": "467c85d2",
   "metadata": {},
   "outputs": [],
   "source": [
    "from langgraph.graph import StateGraph,START,END\n",
    "from langchain_openai import ChatOpenAI\n",
    "from typing import TypedDict\n",
    "from dotenv import load_dotenv"
   ]
  },
  {
   "cell_type": "code",
   "execution_count": 2,
   "id": "d05fe5e8",
   "metadata": {},
   "outputs": [],
   "source": [
    "load_dotenv()\n",
    "model=ChatOpenAI()\n"
   ]
  },
  {
   "cell_type": "code",
   "execution_count": 3,
   "id": "6c08e466",
   "metadata": {},
   "outputs": [],
   "source": [
    "class BlogState(TypedDict):\n",
    "    title: str\n",
    "    content: str\n",
    "    outline:str\n",
    "    score:float"
   ]
  },
  {
   "cell_type": "code",
   "execution_count": 4,
   "id": "cd0841f8",
   "metadata": {},
   "outputs": [],
   "source": [
    "def create_outline(state:BlogState)->BlogState:\n",
    "    #fetch title\n",
    "    ttile=state['title']\n",
    "    #call llm gen outline\n",
    "    prompt=f'Generate adetailed outline for a blog on the topic {ttile}'\n",
    "    outline=model.invoke(prompt).content\n",
    "\n",
    "    #update state\n",
    "    state['outline']=outline\n",
    "    return state"
   ]
  },
  {
   "cell_type": "code",
   "execution_count": 5,
   "id": "14d7b8c7",
   "metadata": {},
   "outputs": [],
   "source": [
    "def create_blog(state:BlogState)->BlogState:\n",
    "\n",
    "    title=state['title']\n",
    "    outline=state['outline']\n",
    "    prompt=f'Write a detailed blog on the title -{title} using the following outline \\n{outline}'\n",
    "    content=model.invoke(prompt).content\n",
    "    state['content']=content\n",
    "    return state"
   ]
  },
  {
   "cell_type": "code",
   "execution_count": 6,
   "id": "07d6e35b",
   "metadata": {},
   "outputs": [],
   "source": [
    "def evaluate_score(state:BlogState)->BlogState:\n",
    "\n",
    "    title=state['title']\n",
    "    content=state['content']\n",
    "    outline=state['outline']\n",
    "    prompt = f\"\"\"\n",
    "    You are an expert blog reviewer.\n",
    "\n",
    "    Given the outline: \"{outline}\"\n",
    "\n",
    "    Evaluate the blog titled \"{title}\" with the following content:\n",
    "    \"{content}\"\n",
    "\n",
    "    Give a single numeric score between 1 and 10 based on how well the blog matches the outline, is engaging, and well-written.\n",
    "\n",
    "    Only return the numeric score.\n",
    "    \"\"\"\n",
    "    score=model.invoke(prompt).content\n",
    "    state['score']=score\n",
    "    return state"
   ]
  },
  {
   "cell_type": "code",
   "execution_count": 7,
   "id": "a706ea64",
   "metadata": {},
   "outputs": [],
   "source": [
    "graph=StateGraph(BlogState)\n",
    "\n",
    "#nodes\n",
    "graph.add_node('create_outline',create_outline)\n",
    "graph.add_node('create_blog',create_blog)\n",
    "graph.add_node('evaluate_score',evaluate_score)\n",
    "\n",
    "#edges\n",
    "graph.add_edge(START,'create_outline')\n",
    "graph.add_edge('create_outline','create_blog')\n",
    "graph.add_edge('create_blog','evaluate_score')\n",
    "graph.add_edge('evaluate_score',END)\n",
    "workflow=graph.compile()"
   ]
  },
  {
   "cell_type": "code",
   "execution_count": 8,
   "id": "11762d73",
   "metadata": {},
   "outputs": [
    {
     "name": "stdout",
     "output_type": "stream",
     "text": [
      "{'title': 'Rise of AI in India', 'content': \"\\n\\nI. Introduction\\n\\nA. Definition of AI\\nArtificial Intelligence (AI) refers to the simulation of human intelligence processes by machines, including learning, reasoning, and self-correction. AI technologies are designed to perform tasks that typically require human intelligence such as visual perception, speech recognition, decision-making, and language translation.\\n\\nB. Overview of the rise of AI in India\\nIn recent years, India has emerged as a key player in the global AI landscape, with a growing number of startups, research initiatives, and government policies aimed at fostering the development and adoption of AI technologies in the country.\\n\\nC. Thesis statement\\nThis blog will explore the historical background, current state, future trends, and ethical considerations of AI in India, highlighting the opportunities and challenges that come with the rise of AI in the country.\\n\\nII. Historical background of AI in India\\n\\nA. Early adoption of AI technologies in India\\nIndia has a long history of involvement in AI research and development, with institutions such as the Indian Institute of Technology (IIT) and the Indian Statistical Institute (ISI) making significant contributions to the field. In the 1980s, India launched the National AI Task Force to promote research and development in AI.\\n\\nB. Growth of AI startups in India\\nIn recent years, India has seen a surge in the number of AI startups, with companies like Niki.ai, Fluid AI, and Nestor Analytics leading the way in developing innovative AI solutions for various industries. These startups have attracted significant investments from both domestic and international investors, fueling the growth of the AI ecosystem in India.\\n\\nC. Government initiatives to promote AI adoption\\nThe Indian government has also taken steps to promote the adoption of AI technologies in the country, launching initiatives such as the National AI Strategy and the AI for All program to build AI capabilities across sectors and drive innovation in AI research and development.\\n\\nIII. Current state of AI in India\\n\\nA. AI applications in various industries\\nAI technologies are being increasingly adopted across various industries in India, including healthcare, finance, education, agriculture, and e-commerce. Companies are leveraging AI solutions to improve efficiency, enhance decision-making, and deliver personalized services to customers.\\n\\nB. Challenges faced by AI adoption in India\\nDespite the rapid growth of AI in India, there are challenges that hinder the widespread adoption of AI technologies, such as the lack of skilled AI talent, data privacy concerns, and regulatory barriers. Addressing these challenges will be crucial for unlocking the full potential of AI in India.\\n\\nC. Success stories of AI implementation in Indian companies\\nSeveral Indian companies have successfully implemented AI technologies to drive business growth and innovation. For example, companies like HDFC Bank, Apollo Hospitals, and Byju's have used AI solutions to enhance customer experience, improve operational efficiency, and enable personalized learning experiences.\\n\\nIV. Future trends of AI in India\\n\\nA. Potential of AI to transform Indian industries\\nAI has the potential to revolutionize Indian industries by driving digital transformation, improving productivity, and fostering innovation. Sectors such as healthcare, agriculture, manufacturing, and transportation stand to benefit significantly from the adoption of AI technologies.\\n\\nB. Impact of AI on the job market in India\\nThe rise of AI in India is expected to reshape the job market, with certain jobs being automated and new job roles being created. It is essential for businesses and policymakers to upskill the workforce and adapt to the evolving nature of work in the age of AI.\\n\\nC. Opportunities for further growth of AI in India\\nThere are immense opportunities for further growth of AI in India, with the country's large pool of engineering talent, diverse market needs, and supportive government policies creating a conducive environment for AI innovation and entrepreneurship.\\n\\nV. Ethical considerations of AI in India\\n\\nA. Concerns about data privacy and security\\nWith the increasing use of AI technologies in India, concerns about data privacy and security have come to the forefront. It is essential for companies to adopt ethical practices and robust data protection measures to safeguard consumer data and build trust in AI systems.\\n\\nB. Ethics of AI algorithms and decision-making\\nThe ethical implications of AI algorithms and decision-making have raised concerns about bias, transparency, and accountability. It is important for companies to ensure that AI systems are designed and deployed in a fair and responsible manner to avoid unintended consequences.\\n\\nC. Regulatory framework for AI in India\\nAs AI technologies become more pervasive in India, there is a growing need for a regulatory framework to govern the use of AI systems and ensure compliance with ethical standards. Policymakers must work towards developing guidelines and standards to regulate AI technologies and protect the rights of citizens.\\n\\nVI. Conclusion\\n\\nA. Recap of key points\\nThe rise of AI in India presents significant opportunities for economic growth, innovation, and social progress. However, it also comes with challenges related to skills development, data privacy, and ethical considerations that need to be addressed to realize the full potential of AI in the country.\\n\\nB. Implications of the rise of AI in India\\nThe rise of AI in India is set to transform industries, create new job opportunities, and drive innovation in the digital economy. Businesses, policymakers, and society at large must work together to harness the potential of AI technologies for the benefit of all.\\n\\nC. Call to action for businesses and policymakers to harness the potential of AI\\nTo capitalize on the opportunities presented by the rise of AI in India, businesses and policymakers must collaborate to invest in AI research, develop talent, and establish a regulatory framework that fosters responsible AI innovation. By working together, India can lead the way in leveraging AI technologies for economic growth and societal development.\", 'outline': 'I. Introduction \\nA. Definition of AI\\nB. Overview of the rise of AI in India \\nC. Thesis statement \\n\\nII. Historical background of AI in India \\nA. Early adoption of AI technologies in India \\nB. Growth of AI startups in India \\nC. Government initiatives to promote AI adoption \\n\\nIII. Current state of AI in India \\nA. AI applications in various industries such as healthcare, finance, and education \\nB. Challenges faced by AI adoption in India \\nC. Success stories of AI implementation in Indian companies \\n\\nIV. Future trends of AI in India \\nA. Potential of AI to transform Indian industries \\nB. Impact of AI on the job market in India \\nC. Opportunities for further growth of AI in India \\n\\nV. Ethical considerations of AI in India \\nA. Concerns about data privacy and security \\nB. Ethics of AI algorithms and decision-making \\nC. Regulatory framework for AI in India \\n\\nVI. Conclusion \\nA. Recap of key points \\nB. Implications of the rise of AI in India \\nC. Call to action for businesses and policymakers to harness the potential of AI', 'score': '9'}\n"
     ]
    }
   ],
   "source": [
    "initial_state={'title':'Rise of AI in India'}\n",
    "\n",
    "final_state=workflow.invoke(initial_state)\n",
    "\n",
    "print(final_state)"
   ]
  },
  {
   "cell_type": "code",
   "execution_count": 9,
   "id": "aa2df5ec",
   "metadata": {},
   "outputs": [
    {
     "name": "stdout",
     "output_type": "stream",
     "text": [
      "\n",
      "\n",
      "I. Introduction\n",
      "\n",
      "A. Definition of AI\n",
      "Artificial Intelligence (AI) refers to the simulation of human intelligence processes by machines, including learning, reasoning, and self-correction. AI technologies are designed to perform tasks that typically require human intelligence such as visual perception, speech recognition, decision-making, and language translation.\n",
      "\n",
      "B. Overview of the rise of AI in India\n",
      "In recent years, India has emerged as a key player in the global AI landscape, with a growing number of startups, research initiatives, and government policies aimed at fostering the development and adoption of AI technologies in the country.\n",
      "\n",
      "C. Thesis statement\n",
      "This blog will explore the historical background, current state, future trends, and ethical considerations of AI in India, highlighting the opportunities and challenges that come with the rise of AI in the country.\n",
      "\n",
      "II. Historical background of AI in India\n",
      "\n",
      "A. Early adoption of AI technologies in India\n",
      "India has a long history of involvement in AI research and development, with institutions such as the Indian Institute of Technology (IIT) and the Indian Statistical Institute (ISI) making significant contributions to the field. In the 1980s, India launched the National AI Task Force to promote research and development in AI.\n",
      "\n",
      "B. Growth of AI startups in India\n",
      "In recent years, India has seen a surge in the number of AI startups, with companies like Niki.ai, Fluid AI, and Nestor Analytics leading the way in developing innovative AI solutions for various industries. These startups have attracted significant investments from both domestic and international investors, fueling the growth of the AI ecosystem in India.\n",
      "\n",
      "C. Government initiatives to promote AI adoption\n",
      "The Indian government has also taken steps to promote the adoption of AI technologies in the country, launching initiatives such as the National AI Strategy and the AI for All program to build AI capabilities across sectors and drive innovation in AI research and development.\n",
      "\n",
      "III. Current state of AI in India\n",
      "\n",
      "A. AI applications in various industries\n",
      "AI technologies are being increasingly adopted across various industries in India, including healthcare, finance, education, agriculture, and e-commerce. Companies are leveraging AI solutions to improve efficiency, enhance decision-making, and deliver personalized services to customers.\n",
      "\n",
      "B. Challenges faced by AI adoption in India\n",
      "Despite the rapid growth of AI in India, there are challenges that hinder the widespread adoption of AI technologies, such as the lack of skilled AI talent, data privacy concerns, and regulatory barriers. Addressing these challenges will be crucial for unlocking the full potential of AI in India.\n",
      "\n",
      "C. Success stories of AI implementation in Indian companies\n",
      "Several Indian companies have successfully implemented AI technologies to drive business growth and innovation. For example, companies like HDFC Bank, Apollo Hospitals, and Byju's have used AI solutions to enhance customer experience, improve operational efficiency, and enable personalized learning experiences.\n",
      "\n",
      "IV. Future trends of AI in India\n",
      "\n",
      "A. Potential of AI to transform Indian industries\n",
      "AI has the potential to revolutionize Indian industries by driving digital transformation, improving productivity, and fostering innovation. Sectors such as healthcare, agriculture, manufacturing, and transportation stand to benefit significantly from the adoption of AI technologies.\n",
      "\n",
      "B. Impact of AI on the job market in India\n",
      "The rise of AI in India is expected to reshape the job market, with certain jobs being automated and new job roles being created. It is essential for businesses and policymakers to upskill the workforce and adapt to the evolving nature of work in the age of AI.\n",
      "\n",
      "C. Opportunities for further growth of AI in India\n",
      "There are immense opportunities for further growth of AI in India, with the country's large pool of engineering talent, diverse market needs, and supportive government policies creating a conducive environment for AI innovation and entrepreneurship.\n",
      "\n",
      "V. Ethical considerations of AI in India\n",
      "\n",
      "A. Concerns about data privacy and security\n",
      "With the increasing use of AI technologies in India, concerns about data privacy and security have come to the forefront. It is essential for companies to adopt ethical practices and robust data protection measures to safeguard consumer data and build trust in AI systems.\n",
      "\n",
      "B. Ethics of AI algorithms and decision-making\n",
      "The ethical implications of AI algorithms and decision-making have raised concerns about bias, transparency, and accountability. It is important for companies to ensure that AI systems are designed and deployed in a fair and responsible manner to avoid unintended consequences.\n",
      "\n",
      "C. Regulatory framework for AI in India\n",
      "As AI technologies become more pervasive in India, there is a growing need for a regulatory framework to govern the use of AI systems and ensure compliance with ethical standards. Policymakers must work towards developing guidelines and standards to regulate AI technologies and protect the rights of citizens.\n",
      "\n",
      "VI. Conclusion\n",
      "\n",
      "A. Recap of key points\n",
      "The rise of AI in India presents significant opportunities for economic growth, innovation, and social progress. However, it also comes with challenges related to skills development, data privacy, and ethical considerations that need to be addressed to realize the full potential of AI in the country.\n",
      "\n",
      "B. Implications of the rise of AI in India\n",
      "The rise of AI in India is set to transform industries, create new job opportunities, and drive innovation in the digital economy. Businesses, policymakers, and society at large must work together to harness the potential of AI technologies for the benefit of all.\n",
      "\n",
      "C. Call to action for businesses and policymakers to harness the potential of AI\n",
      "To capitalize on the opportunities presented by the rise of AI in India, businesses and policymakers must collaborate to invest in AI research, develop talent, and establish a regulatory framework that fosters responsible AI innovation. By working together, India can lead the way in leveraging AI technologies for economic growth and societal development.\n"
     ]
    }
   ],
   "source": [
    "print(final_state['content'])\n"
   ]
  },
  {
   "cell_type": "code",
   "execution_count": 10,
   "id": "550603a9",
   "metadata": {},
   "outputs": [
    {
     "name": "stdout",
     "output_type": "stream",
     "text": [
      "I. Introduction \n",
      "A. Definition of AI\n",
      "B. Overview of the rise of AI in India \n",
      "C. Thesis statement \n",
      "\n",
      "II. Historical background of AI in India \n",
      "A. Early adoption of AI technologies in India \n",
      "B. Growth of AI startups in India \n",
      "C. Government initiatives to promote AI adoption \n",
      "\n",
      "III. Current state of AI in India \n",
      "A. AI applications in various industries such as healthcare, finance, and education \n",
      "B. Challenges faced by AI adoption in India \n",
      "C. Success stories of AI implementation in Indian companies \n",
      "\n",
      "IV. Future trends of AI in India \n",
      "A. Potential of AI to transform Indian industries \n",
      "B. Impact of AI on the job market in India \n",
      "C. Opportunities for further growth of AI in India \n",
      "\n",
      "V. Ethical considerations of AI in India \n",
      "A. Concerns about data privacy and security \n",
      "B. Ethics of AI algorithms and decision-making \n",
      "C. Regulatory framework for AI in India \n",
      "\n",
      "VI. Conclusion \n",
      "A. Recap of key points \n",
      "B. Implications of the rise of AI in India \n",
      "C. Call to action for businesses and policymakers to harness the potential of AI\n"
     ]
    }
   ],
   "source": [
    "print(final_state['outline'])"
   ]
  },
  {
   "cell_type": "code",
   "execution_count": 11,
   "id": "239b1067",
   "metadata": {},
   "outputs": [
    {
     "name": "stdout",
     "output_type": "stream",
     "text": [
      "9\n"
     ]
    }
   ],
   "source": [
    "print(final_state['score'])"
   ]
  }
 ],
 "metadata": {
  "kernelspec": {
   "display_name": "myenv (3.10.6)",
   "language": "python",
   "name": "python3"
  },
  "language_info": {
   "codemirror_mode": {
    "name": "ipython",
    "version": 3
   },
   "file_extension": ".py",
   "mimetype": "text/x-python",
   "name": "python",
   "nbconvert_exporter": "python",
   "pygments_lexer": "ipython3",
   "version": "3.10.6"
  }
 },
 "nbformat": 4,
 "nbformat_minor": 5
}
