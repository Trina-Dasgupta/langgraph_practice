{
 "cells": [
  {
   "cell_type": "code",
   "execution_count": 5,
   "id": "3f8129d8",
   "metadata": {},
   "outputs": [],
   "source": [
    "from langgraph.graph import StateGraph, START, END\n",
    "from typing import TypedDict\n",
    "from langchain_openai import ChatOpenAI\n",
    "from dotenv import load_dotenv\n",
    "from langgraph.checkpoint.memory import InMemorySaver"
   ]
  },
  {
   "cell_type": "code",
   "execution_count": 6,
   "id": "7e5da1fb",
   "metadata": {},
   "outputs": [],
   "source": [
    "load_dotenv()\n",
    "\n",
    "llm = ChatOpenAI()"
   ]
  },
  {
   "cell_type": "code",
   "execution_count": 7,
   "id": "0feb1bb3",
   "metadata": {},
   "outputs": [],
   "source": [
    "\n",
    "class JokeState(TypedDict):\n",
    "\n",
    "    topic: str\n",
    "    joke: str\n",
    "    explanation: str"
   ]
  },
  {
   "cell_type": "code",
   "execution_count": 8,
   "id": "1583d3e0",
   "metadata": {},
   "outputs": [],
   "source": [
    "def generate_joke(state: JokeState):\n",
    "\n",
    "    prompt = f'generate a joke on the topic {state[\"topic\"]}'\n",
    "    response = llm.invoke(prompt).content\n",
    "\n",
    "    return {'joke': response}"
   ]
  },
  {
   "cell_type": "code",
   "execution_count": 9,
   "id": "4a8896c8",
   "metadata": {},
   "outputs": [],
   "source": [
    "\n",
    "def generate_explanation(state: JokeState):\n",
    "\n",
    "    prompt = f'write an explanation for the joke - {state[\"joke\"]}'\n",
    "    response = llm.invoke(prompt).content\n",
    "\n",
    "    return {'explanation': response}"
   ]
  },
  {
   "cell_type": "code",
   "execution_count": 10,
   "id": "5c82cf35",
   "metadata": {},
   "outputs": [],
   "source": [
    "graph = StateGraph(JokeState)\n",
    "\n",
    "graph.add_node('generate_joke', generate_joke)\n",
    "graph.add_node('generate_explanation', generate_explanation)\n",
    "\n",
    "graph.add_edge(START, 'generate_joke')\n",
    "graph.add_edge('generate_joke', 'generate_explanation')\n",
    "graph.add_edge('generate_explanation', END)\n",
    "\n",
    "checkpointer = InMemorySaver()\n",
    "\n",
    "workflow = graph.compile(checkpointer=checkpointer)"
   ]
  },
  {
   "cell_type": "code",
   "execution_count": 11,
   "id": "6a3f2568",
   "metadata": {},
   "outputs": [
    {
     "data": {
      "text/plain": [
       "{'topic': 'pizza',\n",
       " 'joke': 'Why did the pizza go to the doctor? Because it was feeling a little crusty!',\n",
       " 'explanation': 'This joke is a play on words using the word \"crusty.\" In this case, crusty can refer to both the crust of a pizza and also to someone feeling unwell or not their best. So the joke is saying that the pizza went to the doctor because it was feeling unwell, and in this case, the reason for feeling unwell is because it was \"crusty.\" The humor comes from the unexpected double meaning of the word \"crusty\" in the context of a pizza going to the doctor.'}"
      ]
     },
     "execution_count": 11,
     "metadata": {},
     "output_type": "execute_result"
    }
   ],
   "source": [
    "config1 = {\"configurable\": {\"thread_id\": \"1\"}}\n",
    "workflow.invoke({'topic':'pizza'}, config=config1)"
   ]
  },
  {
   "cell_type": "code",
   "execution_count": 12,
   "id": "a3e0c732",
   "metadata": {},
   "outputs": [
    {
     "data": {
      "text/plain": [
       "StateSnapshot(values={'topic': 'pizza', 'joke': 'Why did the pizza go to the doctor? Because it was feeling a little crusty!', 'explanation': 'This joke is a play on words using the word \"crusty.\" In this case, crusty can refer to both the crust of a pizza and also to someone feeling unwell or not their best. So the joke is saying that the pizza went to the doctor because it was feeling unwell, and in this case, the reason for feeling unwell is because it was \"crusty.\" The humor comes from the unexpected double meaning of the word \"crusty\" in the context of a pizza going to the doctor.'}, next=(), config={'configurable': {'thread_id': '1', 'checkpoint_ns': '', 'checkpoint_id': '1f093a50-8149-6ccd-8002-3537a5191024'}}, metadata={'source': 'loop', 'step': 2, 'parents': {}}, created_at='2025-09-17T09:02:26.294087+00:00', parent_config={'configurable': {'thread_id': '1', 'checkpoint_ns': '', 'checkpoint_id': '1f093a50-66cc-609e-8001-5c2aa0c83ab7'}}, tasks=(), interrupts=())"
      ]
     },
     "execution_count": 12,
     "metadata": {},
     "output_type": "execute_result"
    }
   ],
   "source": [
    "workflow.get_state(config1)\n"
   ]
  },
  {
   "cell_type": "code",
   "execution_count": 13,
   "id": "62f5bf0e",
   "metadata": {},
   "outputs": [
    {
     "data": {
      "text/plain": [
       "[StateSnapshot(values={'topic': 'pizza', 'joke': 'Why did the pizza go to the doctor? Because it was feeling a little crusty!', 'explanation': 'This joke is a play on words using the word \"crusty.\" In this case, crusty can refer to both the crust of a pizza and also to someone feeling unwell or not their best. So the joke is saying that the pizza went to the doctor because it was feeling unwell, and in this case, the reason for feeling unwell is because it was \"crusty.\" The humor comes from the unexpected double meaning of the word \"crusty\" in the context of a pizza going to the doctor.'}, next=(), config={'configurable': {'thread_id': '1', 'checkpoint_ns': '', 'checkpoint_id': '1f093a50-8149-6ccd-8002-3537a5191024'}}, metadata={'source': 'loop', 'step': 2, 'parents': {}}, created_at='2025-09-17T09:02:26.294087+00:00', parent_config={'configurable': {'thread_id': '1', 'checkpoint_ns': '', 'checkpoint_id': '1f093a50-66cc-609e-8001-5c2aa0c83ab7'}}, tasks=(), interrupts=()),\n",
       " StateSnapshot(values={'topic': 'pizza', 'joke': 'Why did the pizza go to the doctor? Because it was feeling a little crusty!'}, next=('generate_explanation',), config={'configurable': {'thread_id': '1', 'checkpoint_ns': '', 'checkpoint_id': '1f093a50-66cc-609e-8001-5c2aa0c83ab7'}}, metadata={'source': 'loop', 'step': 1, 'parents': {}}, created_at='2025-09-17T09:02:23.516278+00:00', parent_config={'configurable': {'thread_id': '1', 'checkpoint_ns': '', 'checkpoint_id': '1f093a50-5815-649f-8000-4deadefc980b'}}, tasks=(PregelTask(id='890913b0-b4c2-cf48-0873-0ea16e407ad4', name='generate_explanation', path=('__pregel_pull', 'generate_explanation'), error=None, interrupts=(), state=None, result={'explanation': 'This joke is a play on words using the word \"crusty.\" In this case, crusty can refer to both the crust of a pizza and also to someone feeling unwell or not their best. So the joke is saying that the pizza went to the doctor because it was feeling unwell, and in this case, the reason for feeling unwell is because it was \"crusty.\" The humor comes from the unexpected double meaning of the word \"crusty\" in the context of a pizza going to the doctor.'}),), interrupts=()),\n",
       " StateSnapshot(values={'topic': 'pizza'}, next=('generate_joke',), config={'configurable': {'thread_id': '1', 'checkpoint_ns': '', 'checkpoint_id': '1f093a50-5815-649f-8000-4deadefc980b'}}, metadata={'source': 'loop', 'step': 0, 'parents': {}}, created_at='2025-09-17T09:02:21.973417+00:00', parent_config={'configurable': {'thread_id': '1', 'checkpoint_ns': '', 'checkpoint_id': '1f093a50-580b-684f-bfff-7de818ccf220'}}, tasks=(PregelTask(id='64e0010d-e045-bd0d-73aa-492fa233ba03', name='generate_joke', path=('__pregel_pull', 'generate_joke'), error=None, interrupts=(), state=None, result={'joke': 'Why did the pizza go to the doctor? Because it was feeling a little crusty!'}),), interrupts=()),\n",
       " StateSnapshot(values={}, next=('__start__',), config={'configurable': {'thread_id': '1', 'checkpoint_ns': '', 'checkpoint_id': '1f093a50-580b-684f-bfff-7de818ccf220'}}, metadata={'source': 'input', 'step': -1, 'parents': {}}, created_at='2025-09-17T09:02:21.969415+00:00', parent_config=None, tasks=(PregelTask(id='826b3fdc-e98f-e70f-13ab-66404e0396f0', name='__start__', path=('__pregel_pull', '__start__'), error=None, interrupts=(), state=None, result={'topic': 'pizza'}),), interrupts=())]"
      ]
     },
     "execution_count": 13,
     "metadata": {},
     "output_type": "execute_result"
    }
   ],
   "source": [
    "list(workflow.get_state_history(config1))\n"
   ]
  },
  {
   "cell_type": "code",
   "execution_count": 14,
   "id": "5bdba969",
   "metadata": {},
   "outputs": [
    {
     "data": {
      "text/plain": [
       "{'topic': 'pasta',\n",
       " 'joke': 'Why did the pasta chef go broke? Because he pasta-way all his dough on noodles!',\n",
       " 'explanation': 'This joke is a play on words using pasta-related puns. The phrase \"pasta-way all his dough\" is a reference to the pasta chef spending all of his money on noodles, which in this context is a humorous way of saying he spent all his money on pasta ingredients. The joke is funny because it combines the culinary world with financial troubles in a clever and punny way.'}"
      ]
     },
     "execution_count": 14,
     "metadata": {},
     "output_type": "execute_result"
    }
   ],
   "source": [
    "config2 = {\"configurable\": {\"thread_id\": \"2\"}}\n",
    "workflow.invoke({'topic':'pasta'}, config=config2)"
   ]
  },
  {
   "cell_type": "code",
   "execution_count": 14,
   "id": "b71da585",
   "metadata": {},
   "outputs": [
    {
     "data": {
      "text/plain": [
       "StateSnapshot(values={'topic': 'pasta', 'joke': 'Why did the pasta join a band? \\n\\nBecause it had great orecchiette solos!', 'explanation': 'This joke plays on the double meaning of \"join a band.\" In this case, joining a band can refer to joining a group of musicians, but it can also mean to physically join together, like pasta does when it is cooked. The punchline about the pasta having great orecchiette solos is a play on words, as \"orecchiette\" is a type of pasta known for its unique shape that resembles a small ear. The joke suggests that the pasta joined the band because it had excellent orecchiette solos, as if the pasta itself was a talented musician.'}, next=(), config={'configurable': {'thread_id': '2', 'checkpoint_ns': '', 'checkpoint_id': '1f093a36-9b9d-662c-8002-02dee6e9b7eb'}}, metadata={'source': 'loop', 'step': 2, 'parents': {}}, created_at='2025-09-17T08:50:51.122436+00:00', parent_config={'configurable': {'thread_id': '2', 'checkpoint_ns': '', 'checkpoint_id': '1f093a36-8bb1-6f57-8001-04aab32af8fc'}}, tasks=(), interrupts=())"
      ]
     },
     "execution_count": 14,
     "metadata": {},
     "output_type": "execute_result"
    }
   ],
   "source": [
    "workflow.get_state(config2)\n"
   ]
  },
  {
   "cell_type": "code",
   "execution_count": 15,
   "id": "69ba7929",
   "metadata": {},
   "outputs": [
    {
     "data": {
      "text/plain": [
       "[StateSnapshot(values={'topic': 'pasta', 'joke': 'Why did the pasta join a band? \\n\\nBecause it had great orecchiette solos!', 'explanation': 'This joke plays on the double meaning of \"join a band.\" In this case, joining a band can refer to joining a group of musicians, but it can also mean to physically join together, like pasta does when it is cooked. The punchline about the pasta having great orecchiette solos is a play on words, as \"orecchiette\" is a type of pasta known for its unique shape that resembles a small ear. The joke suggests that the pasta joined the band because it had excellent orecchiette solos, as if the pasta itself was a talented musician.'}, next=(), config={'configurable': {'thread_id': '2', 'checkpoint_ns': '', 'checkpoint_id': '1f093a36-9b9d-662c-8002-02dee6e9b7eb'}}, metadata={'source': 'loop', 'step': 2, 'parents': {}}, created_at='2025-09-17T08:50:51.122436+00:00', parent_config={'configurable': {'thread_id': '2', 'checkpoint_ns': '', 'checkpoint_id': '1f093a36-8bb1-6f57-8001-04aab32af8fc'}}, tasks=(), interrupts=()),\n",
       " StateSnapshot(values={'topic': 'pasta', 'joke': 'Why did the pasta join a band? \\n\\nBecause it had great orecchiette solos!'}, next=('generate_explanation',), config={'configurable': {'thread_id': '2', 'checkpoint_ns': '', 'checkpoint_id': '1f093a36-8bb1-6f57-8001-04aab32af8fc'}}, metadata={'source': 'loop', 'step': 1, 'parents': {}}, created_at='2025-09-17T08:50:49.453141+00:00', parent_config={'configurable': {'thread_id': '2', 'checkpoint_ns': '', 'checkpoint_id': '1f093a36-7cf4-6656-8000-903f43de962d'}}, tasks=(PregelTask(id='67a34d3e-2fba-3d96-7fe6-7978930c0fd1', name='generate_explanation', path=('__pregel_pull', 'generate_explanation'), error=None, interrupts=(), state=None, result={'explanation': 'This joke plays on the double meaning of \"join a band.\" In this case, joining a band can refer to joining a group of musicians, but it can also mean to physically join together, like pasta does when it is cooked. The punchline about the pasta having great orecchiette solos is a play on words, as \"orecchiette\" is a type of pasta known for its unique shape that resembles a small ear. The joke suggests that the pasta joined the band because it had excellent orecchiette solos, as if the pasta itself was a talented musician.'}),), interrupts=()),\n",
       " StateSnapshot(values={'topic': 'pasta'}, next=('generate_joke',), config={'configurable': {'thread_id': '2', 'checkpoint_ns': '', 'checkpoint_id': '1f093a36-7cf4-6656-8000-903f43de962d'}}, metadata={'source': 'loop', 'step': 0, 'parents': {}}, created_at='2025-09-17T08:50:47.907490+00:00', parent_config={'configurable': {'thread_id': '2', 'checkpoint_ns': '', 'checkpoint_id': '1f093a36-7cd5-692f-bfff-fc005c053690'}}, tasks=(PregelTask(id='e01dcc7d-43d8-a014-35bb-3ae9e984ae1f', name='generate_joke', path=('__pregel_pull', 'generate_joke'), error=None, interrupts=(), state=None, result={'joke': 'Why did the pasta join a band? \\n\\nBecause it had great orecchiette solos!'}),), interrupts=()),\n",
       " StateSnapshot(values={}, next=('__start__',), config={'configurable': {'thread_id': '2', 'checkpoint_ns': '', 'checkpoint_id': '1f093a36-7cd5-692f-bfff-fc005c053690'}}, metadata={'source': 'input', 'step': -1, 'parents': {}}, created_at='2025-09-17T08:50:47.894865+00:00', parent_config=None, tasks=(PregelTask(id='0b175144-e5a8-b28f-d212-06fcdcfb88be', name='__start__', path=('__pregel_pull', '__start__'), error=None, interrupts=(), state=None, result={'topic': 'pasta'}),), interrupts=())]"
      ]
     },
     "execution_count": 15,
     "metadata": {},
     "output_type": "execute_result"
    }
   ],
   "source": [
    "list(workflow.get_state_history(config2))\n"
   ]
  },
  {
   "cell_type": "markdown",
   "id": "fb2baf1b",
   "metadata": {},
   "source": [
    "## Time Travel"
   ]
  },
  {
   "cell_type": "code",
   "execution_count": 15,
   "id": "4b388aa7",
   "metadata": {},
   "outputs": [
    {
     "data": {
      "text/plain": [
       "StateSnapshot(values={'topic': 'pizza'}, next=('generate_joke',), config={'configurable': {'thread_id': '1', 'checkpoint_id': '1f093a50-5815-649f-8000-4deadefc980b'}}, metadata={'source': 'loop', 'step': 0, 'parents': {}}, created_at='2025-09-17T09:02:21.973417+00:00', parent_config={'configurable': {'thread_id': '1', 'checkpoint_ns': '', 'checkpoint_id': '1f093a50-580b-684f-bfff-7de818ccf220'}}, tasks=(PregelTask(id='64e0010d-e045-bd0d-73aa-492fa233ba03', name='generate_joke', path=('__pregel_pull', 'generate_joke'), error=None, interrupts=(), state=None, result={'joke': 'Why did the pizza go to the doctor? Because it was feeling a little crusty!'}),), interrupts=())"
      ]
     },
     "execution_count": 15,
     "metadata": {},
     "output_type": "execute_result"
    }
   ],
   "source": [
    "workflow.get_state({\"configurable\": {\"thread_id\": \"1\", \"checkpoint_id\": \"1f093a50-5815-649f-8000-4deadefc980b\"}})\n"
   ]
  },
  {
   "cell_type": "code",
   "execution_count": 16,
   "id": "735ed0bd",
   "metadata": {},
   "outputs": [
    {
     "data": {
      "text/plain": [
       "{'topic': 'pizza',\n",
       " 'joke': 'Why did the pizza go to the doctor? Because it was feeling a little crusty!',\n",
       " 'explanation': 'This joke is a pun based on the words \"crusty\" and \"crust.\" In this context, \"crusty\" is often used to describe something that is dry, rough, and stiff. In this joke, the pizza went to the doctor because it was feeling \"crusty,\" which can refer to the texture of the pizza\\'s crust. This play on words adds humor to the idea of a pizza seeking medical attention.'}"
      ]
     },
     "execution_count": 16,
     "metadata": {},
     "output_type": "execute_result"
    }
   ],
   "source": [
    "workflow.invoke(None, {\"configurable\": {\"thread_id\": \"1\", \"checkpoint_id\": \"1f093a50-5815-649f-8000-4deadefc980b\"}})\n"
   ]
  },
  {
   "cell_type": "code",
   "execution_count": 17,
   "id": "7936c02d",
   "metadata": {},
   "outputs": [
    {
     "data": {
      "text/plain": [
       "[StateSnapshot(values={'topic': 'pizza', 'joke': 'Why did the pizza go to the doctor? Because it was feeling a little crusty!', 'explanation': 'This joke is a pun based on the words \"crusty\" and \"crust.\" In this context, \"crusty\" is often used to describe something that is dry, rough, and stiff. In this joke, the pizza went to the doctor because it was feeling \"crusty,\" which can refer to the texture of the pizza\\'s crust. This play on words adds humor to the idea of a pizza seeking medical attention.'}, next=(), config={'configurable': {'thread_id': '1', 'checkpoint_ns': '', 'checkpoint_id': '1f093a57-06b8-661c-8002-68cd35b3ce1b'}}, metadata={'source': 'loop', 'step': 2, 'parents': {}}, created_at='2025-09-17T09:05:21.346716+00:00', parent_config={'configurable': {'thread_id': '1', 'checkpoint_ns': '', 'checkpoint_id': '1f093a56-f81a-6c1e-8001-295ff76033d3'}}, tasks=(), interrupts=()),\n",
       " StateSnapshot(values={'topic': 'pizza', 'joke': 'Why did the pizza go to the doctor? Because it was feeling a little crusty!'}, next=('generate_explanation',), config={'configurable': {'thread_id': '1', 'checkpoint_ns': '', 'checkpoint_id': '1f093a56-f81a-6c1e-8001-295ff76033d3'}}, metadata={'source': 'loop', 'step': 1, 'parents': {}}, created_at='2025-09-17T09:05:19.814147+00:00', parent_config={'configurable': {'thread_id': '1', 'checkpoint_ns': '', 'checkpoint_id': '1f093a50-5815-649f-8000-4deadefc980b'}}, tasks=(PregelTask(id='5df5716b-2cdd-75e7-6ef2-aa45308c7a87', name='generate_explanation', path=('__pregel_pull', 'generate_explanation'), error=None, interrupts=(), state=None, result={'explanation': 'This joke is a pun based on the words \"crusty\" and \"crust.\" In this context, \"crusty\" is often used to describe something that is dry, rough, and stiff. In this joke, the pizza went to the doctor because it was feeling \"crusty,\" which can refer to the texture of the pizza\\'s crust. This play on words adds humor to the idea of a pizza seeking medical attention.'}),), interrupts=()),\n",
       " StateSnapshot(values={'topic': 'pizza', 'joke': 'Why did the pizza go to the doctor? Because it was feeling a little crusty!', 'explanation': 'This joke is a play on words using the word \"crusty.\" In this case, crusty can refer to both the crust of a pizza and also to someone feeling unwell or not their best. So the joke is saying that the pizza went to the doctor because it was feeling unwell, and in this case, the reason for feeling unwell is because it was \"crusty.\" The humor comes from the unexpected double meaning of the word \"crusty\" in the context of a pizza going to the doctor.'}, next=(), config={'configurable': {'thread_id': '1', 'checkpoint_ns': '', 'checkpoint_id': '1f093a50-8149-6ccd-8002-3537a5191024'}}, metadata={'source': 'loop', 'step': 2, 'parents': {}}, created_at='2025-09-17T09:02:26.294087+00:00', parent_config={'configurable': {'thread_id': '1', 'checkpoint_ns': '', 'checkpoint_id': '1f093a50-66cc-609e-8001-5c2aa0c83ab7'}}, tasks=(), interrupts=()),\n",
       " StateSnapshot(values={'topic': 'pizza', 'joke': 'Why did the pizza go to the doctor? Because it was feeling a little crusty!'}, next=('generate_explanation',), config={'configurable': {'thread_id': '1', 'checkpoint_ns': '', 'checkpoint_id': '1f093a50-66cc-609e-8001-5c2aa0c83ab7'}}, metadata={'source': 'loop', 'step': 1, 'parents': {}}, created_at='2025-09-17T09:02:23.516278+00:00', parent_config={'configurable': {'thread_id': '1', 'checkpoint_ns': '', 'checkpoint_id': '1f093a50-5815-649f-8000-4deadefc980b'}}, tasks=(PregelTask(id='890913b0-b4c2-cf48-0873-0ea16e407ad4', name='generate_explanation', path=('__pregel_pull', 'generate_explanation'), error=None, interrupts=(), state=None, result={'explanation': 'This joke is a play on words using the word \"crusty.\" In this case, crusty can refer to both the crust of a pizza and also to someone feeling unwell or not their best. So the joke is saying that the pizza went to the doctor because it was feeling unwell, and in this case, the reason for feeling unwell is because it was \"crusty.\" The humor comes from the unexpected double meaning of the word \"crusty\" in the context of a pizza going to the doctor.'}),), interrupts=()),\n",
       " StateSnapshot(values={'topic': 'pizza'}, next=('generate_joke',), config={'configurable': {'thread_id': '1', 'checkpoint_ns': '', 'checkpoint_id': '1f093a50-5815-649f-8000-4deadefc980b'}}, metadata={'source': 'loop', 'step': 0, 'parents': {}}, created_at='2025-09-17T09:02:21.973417+00:00', parent_config={'configurable': {'thread_id': '1', 'checkpoint_ns': '', 'checkpoint_id': '1f093a50-580b-684f-bfff-7de818ccf220'}}, tasks=(PregelTask(id='64e0010d-e045-bd0d-73aa-492fa233ba03', name='generate_joke', path=('__pregel_pull', 'generate_joke'), error=None, interrupts=(), state=None, result={'joke': 'Why did the pizza go to the doctor? Because it was feeling a little crusty!'}),), interrupts=()),\n",
       " StateSnapshot(values={}, next=('__start__',), config={'configurable': {'thread_id': '1', 'checkpoint_ns': '', 'checkpoint_id': '1f093a50-580b-684f-bfff-7de818ccf220'}}, metadata={'source': 'input', 'step': -1, 'parents': {}}, created_at='2025-09-17T09:02:21.969415+00:00', parent_config=None, tasks=(PregelTask(id='826b3fdc-e98f-e70f-13ab-66404e0396f0', name='__start__', path=('__pregel_pull', '__start__'), error=None, interrupts=(), state=None, result={'topic': 'pizza'}),), interrupts=())]"
      ]
     },
     "execution_count": 17,
     "metadata": {},
     "output_type": "execute_result"
    }
   ],
   "source": [
    "list(workflow.get_state_history(config1))\n"
   ]
  },
  {
   "cell_type": "markdown",
   "id": "8af32b7a",
   "metadata": {},
   "source": [
    "## Update State"
   ]
  },
  {
   "cell_type": "code",
   "execution_count": 21,
   "id": "f9e6b79e",
   "metadata": {},
   "outputs": [
    {
     "data": {
      "text/plain": [
       "{'configurable': {'thread_id': '1',\n",
       "  'checkpoint_ns': '',\n",
       "  'checkpoint_id': '1f093a5f-67d6-631d-8001-c2f45b510a65'}}"
      ]
     },
     "execution_count": 21,
     "metadata": {},
     "output_type": "execute_result"
    }
   ],
   "source": [
    "workflow.update_state({\"configurable\": {\"thread_id\": \"1\", \"checkpoint_id\": \"1f093a50-5815-649f-8000-4deadefc980b\", \"checkpoint_ns\": \"\"}}, {'topic':'samosa'})\n"
   ]
  },
  {
   "cell_type": "code",
   "execution_count": 22,
   "id": "a118a4a7",
   "metadata": {},
   "outputs": [
    {
     "data": {
      "text/plain": [
       "[StateSnapshot(values={'topic': 'samosa'}, next=('generate_joke',), config={'configurable': {'thread_id': '1', 'checkpoint_ns': '', 'checkpoint_id': '1f093a5f-67d6-631d-8001-c2f45b510a65'}}, metadata={'source': 'update', 'step': 1, 'parents': {}}, created_at='2025-09-17T09:09:06.278479+00:00', parent_config={'configurable': {'thread_id': '1', 'checkpoint_ns': '', 'checkpoint_id': '1f093a50-5815-649f-8000-4deadefc980b'}}, tasks=(PregelTask(id='5fecef17-e426-ef90-bc1b-fc0a8d1fd291', name='generate_joke', path=('__pregel_pull', 'generate_joke'), error=None, interrupts=(), state=None, result=None),), interrupts=()),\n",
       " StateSnapshot(values={'topic': 'pizza', 'joke': \"Why did the pizza maker go broke?\\nHe couldn't make enough dough!\", 'explanation': 'This joke plays on the double meaning of the word \"dough.\" In the context of pizza making, \"dough\" refers to the mixture of flour, water, and yeast that is used to make the pizza crust. However, \"dough\" is also a slang term for money. So, the punchline of the joke is that the pizza maker went broke because he couldn\\'t make enough pizza dough (crust) to sell, but also couldn\\'t make enough money (dough) to stay in business. This clever wordplay adds humor to the joke.'}, next=(), config={'configurable': {'thread_id': '1', 'checkpoint_ns': '', 'checkpoint_id': '1f093a5e-1064-6a18-8002-0f66299ba693'}}, metadata={'source': 'loop', 'step': 2, 'parents': {}}, created_at='2025-09-17T09:08:30.265807+00:00', parent_config={'configurable': {'thread_id': '1', 'checkpoint_ns': '', 'checkpoint_id': '1f093a5d-fb4b-6503-8001-3a7298770c17'}}, tasks=(), interrupts=()),\n",
       " StateSnapshot(values={'topic': 'pizza', 'joke': \"Why did the pizza maker go broke?\\nHe couldn't make enough dough!\"}, next=('generate_explanation',), config={'configurable': {'thread_id': '1', 'checkpoint_ns': '', 'checkpoint_id': '1f093a5d-fb4b-6503-8001-3a7298770c17'}}, metadata={'source': 'loop', 'step': 1, 'parents': {}}, created_at='2025-09-17T09:08:28.053427+00:00', parent_config={'configurable': {'thread_id': '1', 'checkpoint_ns': '', 'checkpoint_id': '1f093a50-5815-649f-8000-4deadefc980b'}}, tasks=(PregelTask(id='3665134a-70e7-3333-2b28-336bcd933d66', name='generate_explanation', path=('__pregel_pull', 'generate_explanation'), error=None, interrupts=(), state=None, result={'explanation': 'This joke plays on the double meaning of the word \"dough.\" In the context of pizza making, \"dough\" refers to the mixture of flour, water, and yeast that is used to make the pizza crust. However, \"dough\" is also a slang term for money. So, the punchline of the joke is that the pizza maker went broke because he couldn\\'t make enough pizza dough (crust) to sell, but also couldn\\'t make enough money (dough) to stay in business. This clever wordplay adds humor to the joke.'}),), interrupts=()),\n",
       " StateSnapshot(values={'topic': 'samosa'}, next=('generate_joke',), config={'configurable': {'thread_id': '1', 'checkpoint_ns': '', 'checkpoint_id': '1f093a5c-3ef0-67aa-8001-3975eb20fa61'}}, metadata={'source': 'update', 'step': 1, 'parents': {}}, created_at='2025-09-17T09:07:41.459447+00:00', parent_config={'configurable': {'thread_id': '1', 'checkpoint_ns': '', 'checkpoint_id': '1f093a50-5815-649f-8000-4deadefc980b'}}, tasks=(PregelTask(id='af2c4bdb-07b1-5659-0b77-dea7e3cc98d1', name='generate_joke', path=('__pregel_pull', 'generate_joke'), error=None, interrupts=(), state=None, result=None),), interrupts=()),\n",
       " StateSnapshot(values={'topic': 'pizza', 'joke': 'Why did the pizza go to the doctor? Because it was feeling a little crusty!', 'explanation': 'This joke is a pun based on the words \"crusty\" and \"crust.\" In this context, \"crusty\" is often used to describe something that is dry, rough, and stiff. In this joke, the pizza went to the doctor because it was feeling \"crusty,\" which can refer to the texture of the pizza\\'s crust. This play on words adds humor to the idea of a pizza seeking medical attention.'}, next=(), config={'configurable': {'thread_id': '1', 'checkpoint_ns': '', 'checkpoint_id': '1f093a57-06b8-661c-8002-68cd35b3ce1b'}}, metadata={'source': 'loop', 'step': 2, 'parents': {}}, created_at='2025-09-17T09:05:21.346716+00:00', parent_config={'configurable': {'thread_id': '1', 'checkpoint_ns': '', 'checkpoint_id': '1f093a56-f81a-6c1e-8001-295ff76033d3'}}, tasks=(), interrupts=()),\n",
       " StateSnapshot(values={'topic': 'pizza', 'joke': 'Why did the pizza go to the doctor? Because it was feeling a little crusty!'}, next=('generate_explanation',), config={'configurable': {'thread_id': '1', 'checkpoint_ns': '', 'checkpoint_id': '1f093a56-f81a-6c1e-8001-295ff76033d3'}}, metadata={'source': 'loop', 'step': 1, 'parents': {}}, created_at='2025-09-17T09:05:19.814147+00:00', parent_config={'configurable': {'thread_id': '1', 'checkpoint_ns': '', 'checkpoint_id': '1f093a50-5815-649f-8000-4deadefc980b'}}, tasks=(PregelTask(id='5df5716b-2cdd-75e7-6ef2-aa45308c7a87', name='generate_explanation', path=('__pregel_pull', 'generate_explanation'), error=None, interrupts=(), state=None, result={'explanation': 'This joke is a pun based on the words \"crusty\" and \"crust.\" In this context, \"crusty\" is often used to describe something that is dry, rough, and stiff. In this joke, the pizza went to the doctor because it was feeling \"crusty,\" which can refer to the texture of the pizza\\'s crust. This play on words adds humor to the idea of a pizza seeking medical attention.'}),), interrupts=()),\n",
       " StateSnapshot(values={'topic': 'pizza', 'joke': 'Why did the pizza go to the doctor? Because it was feeling a little crusty!', 'explanation': 'This joke is a play on words using the word \"crusty.\" In this case, crusty can refer to both the crust of a pizza and also to someone feeling unwell or not their best. So the joke is saying that the pizza went to the doctor because it was feeling unwell, and in this case, the reason for feeling unwell is because it was \"crusty.\" The humor comes from the unexpected double meaning of the word \"crusty\" in the context of a pizza going to the doctor.'}, next=(), config={'configurable': {'thread_id': '1', 'checkpoint_ns': '', 'checkpoint_id': '1f093a50-8149-6ccd-8002-3537a5191024'}}, metadata={'source': 'loop', 'step': 2, 'parents': {}}, created_at='2025-09-17T09:02:26.294087+00:00', parent_config={'configurable': {'thread_id': '1', 'checkpoint_ns': '', 'checkpoint_id': '1f093a50-66cc-609e-8001-5c2aa0c83ab7'}}, tasks=(), interrupts=()),\n",
       " StateSnapshot(values={'topic': 'pizza', 'joke': 'Why did the pizza go to the doctor? Because it was feeling a little crusty!'}, next=('generate_explanation',), config={'configurable': {'thread_id': '1', 'checkpoint_ns': '', 'checkpoint_id': '1f093a50-66cc-609e-8001-5c2aa0c83ab7'}}, metadata={'source': 'loop', 'step': 1, 'parents': {}}, created_at='2025-09-17T09:02:23.516278+00:00', parent_config={'configurable': {'thread_id': '1', 'checkpoint_ns': '', 'checkpoint_id': '1f093a50-5815-649f-8000-4deadefc980b'}}, tasks=(PregelTask(id='890913b0-b4c2-cf48-0873-0ea16e407ad4', name='generate_explanation', path=('__pregel_pull', 'generate_explanation'), error=None, interrupts=(), state=None, result={'explanation': 'This joke is a play on words using the word \"crusty.\" In this case, crusty can refer to both the crust of a pizza and also to someone feeling unwell or not their best. So the joke is saying that the pizza went to the doctor because it was feeling unwell, and in this case, the reason for feeling unwell is because it was \"crusty.\" The humor comes from the unexpected double meaning of the word \"crusty\" in the context of a pizza going to the doctor.'}),), interrupts=()),\n",
       " StateSnapshot(values={'topic': 'pizza'}, next=('generate_joke',), config={'configurable': {'thread_id': '1', 'checkpoint_ns': '', 'checkpoint_id': '1f093a50-5815-649f-8000-4deadefc980b'}}, metadata={'source': 'loop', 'step': 0, 'parents': {}}, created_at='2025-09-17T09:02:21.973417+00:00', parent_config={'configurable': {'thread_id': '1', 'checkpoint_ns': '', 'checkpoint_id': '1f093a50-580b-684f-bfff-7de818ccf220'}}, tasks=(PregelTask(id='64e0010d-e045-bd0d-73aa-492fa233ba03', name='generate_joke', path=('__pregel_pull', 'generate_joke'), error=None, interrupts=(), state=None, result={'joke': 'Why did the pizza go to the doctor? Because it was feeling a little crusty!'}),), interrupts=()),\n",
       " StateSnapshot(values={}, next=('__start__',), config={'configurable': {'thread_id': '1', 'checkpoint_ns': '', 'checkpoint_id': '1f093a50-580b-684f-bfff-7de818ccf220'}}, metadata={'source': 'input', 'step': -1, 'parents': {}}, created_at='2025-09-17T09:02:21.969415+00:00', parent_config=None, tasks=(PregelTask(id='826b3fdc-e98f-e70f-13ab-66404e0396f0', name='__start__', path=('__pregel_pull', '__start__'), error=None, interrupts=(), state=None, result={'topic': 'pizza'}),), interrupts=())]"
      ]
     },
     "execution_count": 22,
     "metadata": {},
     "output_type": "execute_result"
    }
   ],
   "source": [
    "list(workflow.get_state_history(config1))\n"
   ]
  },
  {
   "cell_type": "code",
   "execution_count": 23,
   "id": "b5c26684",
   "metadata": {},
   "outputs": [
    {
     "data": {
      "text/plain": [
       "{'topic': 'samosa',\n",
       " 'joke': 'Why did the samosa go to school? To get a little more dough!',\n",
       " 'explanation': 'This joke plays on the double meaning of the word \"dough.\" In this context, \"dough\" refers to money, but it also refers to the bread-like substance used to make samosas. So, the joke is suggesting that the samosa went to school to get more money (dough) but also to physically get more dough to make itself bigger. It\\'s a play on words that adds a humorous twist to the idea of a samosa going to school.'}"
      ]
     },
     "execution_count": 23,
     "metadata": {},
     "output_type": "execute_result"
    }
   ],
   "source": [
    "workflow.invoke(None, {\"configurable\": {\"thread_id\": \"1\", \"checkpoint_id\": \"1f093a5f-67d6-631d-8001-c2f45b510a65\"}})\n"
   ]
  },
  {
   "cell_type": "code",
   "execution_count": 24,
   "id": "952b7154",
   "metadata": {},
   "outputs": [
    {
     "data": {
      "text/plain": [
       "[StateSnapshot(values={'topic': 'samosa', 'joke': 'Why did the samosa go to school? To get a little more dough!', 'explanation': 'This joke plays on the double meaning of the word \"dough.\" In this context, \"dough\" refers to money, but it also refers to the bread-like substance used to make samosas. So, the joke is suggesting that the samosa went to school to get more money (dough) but also to physically get more dough to make itself bigger. It\\'s a play on words that adds a humorous twist to the idea of a samosa going to school.'}, next=(), config={'configurable': {'thread_id': '1', 'checkpoint_ns': '', 'checkpoint_id': '1f093a61-9776-6d1d-8003-c9af10ae57ef'}}, metadata={'source': 'loop', 'step': 3, 'parents': {}}, created_at='2025-09-17T09:10:04.959670+00:00', parent_config={'configurable': {'thread_id': '1', 'checkpoint_ns': '', 'checkpoint_id': '1f093a61-8a15-6f9e-8002-0f590ef6abe8'}}, tasks=(), interrupts=()),\n",
       " StateSnapshot(values={'topic': 'samosa', 'joke': 'Why did the samosa go to school? To get a little more dough!'}, next=('generate_explanation',), config={'configurable': {'thread_id': '1', 'checkpoint_ns': '', 'checkpoint_id': '1f093a61-8a15-6f9e-8002-0f590ef6abe8'}}, metadata={'source': 'loop', 'step': 2, 'parents': {}}, created_at='2025-09-17T09:10:03.556854+00:00', parent_config={'configurable': {'thread_id': '1', 'checkpoint_ns': '', 'checkpoint_id': '1f093a5f-67d6-631d-8001-c2f45b510a65'}}, tasks=(PregelTask(id='f6f028dc-6dc7-1484-32b2-3c68d7b05b3d', name='generate_explanation', path=('__pregel_pull', 'generate_explanation'), error=None, interrupts=(), state=None, result={'explanation': 'This joke plays on the double meaning of the word \"dough.\" In this context, \"dough\" refers to money, but it also refers to the bread-like substance used to make samosas. So, the joke is suggesting that the samosa went to school to get more money (dough) but also to physically get more dough to make itself bigger. It\\'s a play on words that adds a humorous twist to the idea of a samosa going to school.'}),), interrupts=()),\n",
       " StateSnapshot(values={'topic': 'samosa'}, next=('generate_joke',), config={'configurable': {'thread_id': '1', 'checkpoint_ns': '', 'checkpoint_id': '1f093a5f-67d6-631d-8001-c2f45b510a65'}}, metadata={'source': 'update', 'step': 1, 'parents': {}}, created_at='2025-09-17T09:09:06.278479+00:00', parent_config={'configurable': {'thread_id': '1', 'checkpoint_ns': '', 'checkpoint_id': '1f093a50-5815-649f-8000-4deadefc980b'}}, tasks=(PregelTask(id='5fecef17-e426-ef90-bc1b-fc0a8d1fd291', name='generate_joke', path=('__pregel_pull', 'generate_joke'), error=None, interrupts=(), state=None, result={'joke': 'Why did the samosa go to school? To get a little more dough!'}),), interrupts=()),\n",
       " StateSnapshot(values={'topic': 'pizza', 'joke': \"Why did the pizza maker go broke?\\nHe couldn't make enough dough!\", 'explanation': 'This joke plays on the double meaning of the word \"dough.\" In the context of pizza making, \"dough\" refers to the mixture of flour, water, and yeast that is used to make the pizza crust. However, \"dough\" is also a slang term for money. So, the punchline of the joke is that the pizza maker went broke because he couldn\\'t make enough pizza dough (crust) to sell, but also couldn\\'t make enough money (dough) to stay in business. This clever wordplay adds humor to the joke.'}, next=(), config={'configurable': {'thread_id': '1', 'checkpoint_ns': '', 'checkpoint_id': '1f093a5e-1064-6a18-8002-0f66299ba693'}}, metadata={'source': 'loop', 'step': 2, 'parents': {}}, created_at='2025-09-17T09:08:30.265807+00:00', parent_config={'configurable': {'thread_id': '1', 'checkpoint_ns': '', 'checkpoint_id': '1f093a5d-fb4b-6503-8001-3a7298770c17'}}, tasks=(), interrupts=()),\n",
       " StateSnapshot(values={'topic': 'pizza', 'joke': \"Why did the pizza maker go broke?\\nHe couldn't make enough dough!\"}, next=('generate_explanation',), config={'configurable': {'thread_id': '1', 'checkpoint_ns': '', 'checkpoint_id': '1f093a5d-fb4b-6503-8001-3a7298770c17'}}, metadata={'source': 'loop', 'step': 1, 'parents': {}}, created_at='2025-09-17T09:08:28.053427+00:00', parent_config={'configurable': {'thread_id': '1', 'checkpoint_ns': '', 'checkpoint_id': '1f093a50-5815-649f-8000-4deadefc980b'}}, tasks=(PregelTask(id='3665134a-70e7-3333-2b28-336bcd933d66', name='generate_explanation', path=('__pregel_pull', 'generate_explanation'), error=None, interrupts=(), state=None, result={'explanation': 'This joke plays on the double meaning of the word \"dough.\" In the context of pizza making, \"dough\" refers to the mixture of flour, water, and yeast that is used to make the pizza crust. However, \"dough\" is also a slang term for money. So, the punchline of the joke is that the pizza maker went broke because he couldn\\'t make enough pizza dough (crust) to sell, but also couldn\\'t make enough money (dough) to stay in business. This clever wordplay adds humor to the joke.'}),), interrupts=()),\n",
       " StateSnapshot(values={'topic': 'samosa'}, next=('generate_joke',), config={'configurable': {'thread_id': '1', 'checkpoint_ns': '', 'checkpoint_id': '1f093a5c-3ef0-67aa-8001-3975eb20fa61'}}, metadata={'source': 'update', 'step': 1, 'parents': {}}, created_at='2025-09-17T09:07:41.459447+00:00', parent_config={'configurable': {'thread_id': '1', 'checkpoint_ns': '', 'checkpoint_id': '1f093a50-5815-649f-8000-4deadefc980b'}}, tasks=(PregelTask(id='af2c4bdb-07b1-5659-0b77-dea7e3cc98d1', name='generate_joke', path=('__pregel_pull', 'generate_joke'), error=None, interrupts=(), state=None, result=None),), interrupts=()),\n",
       " StateSnapshot(values={'topic': 'pizza', 'joke': 'Why did the pizza go to the doctor? Because it was feeling a little crusty!', 'explanation': 'This joke is a pun based on the words \"crusty\" and \"crust.\" In this context, \"crusty\" is often used to describe something that is dry, rough, and stiff. In this joke, the pizza went to the doctor because it was feeling \"crusty,\" which can refer to the texture of the pizza\\'s crust. This play on words adds humor to the idea of a pizza seeking medical attention.'}, next=(), config={'configurable': {'thread_id': '1', 'checkpoint_ns': '', 'checkpoint_id': '1f093a57-06b8-661c-8002-68cd35b3ce1b'}}, metadata={'source': 'loop', 'step': 2, 'parents': {}}, created_at='2025-09-17T09:05:21.346716+00:00', parent_config={'configurable': {'thread_id': '1', 'checkpoint_ns': '', 'checkpoint_id': '1f093a56-f81a-6c1e-8001-295ff76033d3'}}, tasks=(), interrupts=()),\n",
       " StateSnapshot(values={'topic': 'pizza', 'joke': 'Why did the pizza go to the doctor? Because it was feeling a little crusty!'}, next=('generate_explanation',), config={'configurable': {'thread_id': '1', 'checkpoint_ns': '', 'checkpoint_id': '1f093a56-f81a-6c1e-8001-295ff76033d3'}}, metadata={'source': 'loop', 'step': 1, 'parents': {}}, created_at='2025-09-17T09:05:19.814147+00:00', parent_config={'configurable': {'thread_id': '1', 'checkpoint_ns': '', 'checkpoint_id': '1f093a50-5815-649f-8000-4deadefc980b'}}, tasks=(PregelTask(id='5df5716b-2cdd-75e7-6ef2-aa45308c7a87', name='generate_explanation', path=('__pregel_pull', 'generate_explanation'), error=None, interrupts=(), state=None, result={'explanation': 'This joke is a pun based on the words \"crusty\" and \"crust.\" In this context, \"crusty\" is often used to describe something that is dry, rough, and stiff. In this joke, the pizza went to the doctor because it was feeling \"crusty,\" which can refer to the texture of the pizza\\'s crust. This play on words adds humor to the idea of a pizza seeking medical attention.'}),), interrupts=()),\n",
       " StateSnapshot(values={'topic': 'pizza', 'joke': 'Why did the pizza go to the doctor? Because it was feeling a little crusty!', 'explanation': 'This joke is a play on words using the word \"crusty.\" In this case, crusty can refer to both the crust of a pizza and also to someone feeling unwell or not their best. So the joke is saying that the pizza went to the doctor because it was feeling unwell, and in this case, the reason for feeling unwell is because it was \"crusty.\" The humor comes from the unexpected double meaning of the word \"crusty\" in the context of a pizza going to the doctor.'}, next=(), config={'configurable': {'thread_id': '1', 'checkpoint_ns': '', 'checkpoint_id': '1f093a50-8149-6ccd-8002-3537a5191024'}}, metadata={'source': 'loop', 'step': 2, 'parents': {}}, created_at='2025-09-17T09:02:26.294087+00:00', parent_config={'configurable': {'thread_id': '1', 'checkpoint_ns': '', 'checkpoint_id': '1f093a50-66cc-609e-8001-5c2aa0c83ab7'}}, tasks=(), interrupts=()),\n",
       " StateSnapshot(values={'topic': 'pizza', 'joke': 'Why did the pizza go to the doctor? Because it was feeling a little crusty!'}, next=('generate_explanation',), config={'configurable': {'thread_id': '1', 'checkpoint_ns': '', 'checkpoint_id': '1f093a50-66cc-609e-8001-5c2aa0c83ab7'}}, metadata={'source': 'loop', 'step': 1, 'parents': {}}, created_at='2025-09-17T09:02:23.516278+00:00', parent_config={'configurable': {'thread_id': '1', 'checkpoint_ns': '', 'checkpoint_id': '1f093a50-5815-649f-8000-4deadefc980b'}}, tasks=(PregelTask(id='890913b0-b4c2-cf48-0873-0ea16e407ad4', name='generate_explanation', path=('__pregel_pull', 'generate_explanation'), error=None, interrupts=(), state=None, result={'explanation': 'This joke is a play on words using the word \"crusty.\" In this case, crusty can refer to both the crust of a pizza and also to someone feeling unwell or not their best. So the joke is saying that the pizza went to the doctor because it was feeling unwell, and in this case, the reason for feeling unwell is because it was \"crusty.\" The humor comes from the unexpected double meaning of the word \"crusty\" in the context of a pizza going to the doctor.'}),), interrupts=()),\n",
       " StateSnapshot(values={'topic': 'pizza'}, next=('generate_joke',), config={'configurable': {'thread_id': '1', 'checkpoint_ns': '', 'checkpoint_id': '1f093a50-5815-649f-8000-4deadefc980b'}}, metadata={'source': 'loop', 'step': 0, 'parents': {}}, created_at='2025-09-17T09:02:21.973417+00:00', parent_config={'configurable': {'thread_id': '1', 'checkpoint_ns': '', 'checkpoint_id': '1f093a50-580b-684f-bfff-7de818ccf220'}}, tasks=(PregelTask(id='64e0010d-e045-bd0d-73aa-492fa233ba03', name='generate_joke', path=('__pregel_pull', 'generate_joke'), error=None, interrupts=(), state=None, result={'joke': 'Why did the pizza go to the doctor? Because it was feeling a little crusty!'}),), interrupts=()),\n",
       " StateSnapshot(values={}, next=('__start__',), config={'configurable': {'thread_id': '1', 'checkpoint_ns': '', 'checkpoint_id': '1f093a50-580b-684f-bfff-7de818ccf220'}}, metadata={'source': 'input', 'step': -1, 'parents': {}}, created_at='2025-09-17T09:02:21.969415+00:00', parent_config=None, tasks=(PregelTask(id='826b3fdc-e98f-e70f-13ab-66404e0396f0', name='__start__', path=('__pregel_pull', '__start__'), error=None, interrupts=(), state=None, result={'topic': 'pizza'}),), interrupts=())]"
      ]
     },
     "execution_count": 24,
     "metadata": {},
     "output_type": "execute_result"
    }
   ],
   "source": [
    "list(workflow.get_state_history(config1))\n"
   ]
  },
  {
   "cell_type": "markdown",
   "id": "4cf3be32",
   "metadata": {},
   "source": [
    "## Fault Tolerance"
   ]
  },
  {
   "cell_type": "code",
   "execution_count": 2,
   "id": "d22424b1",
   "metadata": {},
   "outputs": [],
   "source": [
    "\n",
    "from langgraph.graph import StateGraph, END\n",
    "from langgraph.checkpoint.memory import InMemorySaver\n",
    "from typing import TypedDict\n",
    "import time"
   ]
  },
  {
   "cell_type": "code",
   "execution_count": 3,
   "id": "52b17dc8",
   "metadata": {},
   "outputs": [],
   "source": [
    "# 1. Define the state\n",
    "class CrashState(TypedDict):\n",
    "    input: str\n",
    "    step1: str\n",
    "    step2: str"
   ]
  },
  {
   "cell_type": "code",
   "execution_count": 4,
   "id": "0031116f",
   "metadata": {},
   "outputs": [],
   "source": [
    "# 2. Define steps\n",
    "def step_1(state: CrashState) -> CrashState:\n",
    "    print(\"✅ Step 1 executed\")\n",
    "    return {\"step1\": \"done\", \"input\": state[\"input\"]}\n",
    "\n",
    "def step_2(state: CrashState) -> CrashState:\n",
    "    print(\"⏳ Step 2 hanging... now manually interrupt from the notebook toolbar (STOP button)\")\n",
    "    time.sleep(1000)  # Simulate long-running hang\n",
    "    return {\"step2\": \"done\"}\n",
    "\n",
    "def step_3(state: CrashState) -> CrashState:\n",
    "    print(\"✅ Step 3 executed\")\n",
    "    return {\"done\": True}"
   ]
  },
  {
   "cell_type": "code",
   "execution_count": 5,
   "id": "846b7971",
   "metadata": {},
   "outputs": [],
   "source": [
    "# 3. Build the graph\n",
    "builder = StateGraph(CrashState)\n",
    "builder.add_node(\"step_1\", step_1)\n",
    "builder.add_node(\"step_2\", step_2)\n",
    "builder.add_node(\"step_3\", step_3)\n",
    "\n",
    "builder.set_entry_point(\"step_1\")\n",
    "builder.add_edge(\"step_1\", \"step_2\")\n",
    "builder.add_edge(\"step_2\", \"step_3\")\n",
    "builder.add_edge(\"step_3\", END)\n",
    "\n",
    "checkpointer = InMemorySaver()\n",
    "graph = builder.compile(checkpointer=checkpointer)"
   ]
  },
  {
   "cell_type": "code",
   "execution_count": null,
   "id": "5939f196",
   "metadata": {},
   "outputs": [
    {
     "name": "stdout",
     "output_type": "stream",
     "text": [
      "▶️ Running graph: Please manually interrupt during Step 2...\n",
      "✅ Step 1 executed\n",
      "⏳ Step 2 hanging... now manually interrupt from the notebook toolbar (STOP button)\n"
     ]
    }
   ],
   "source": [
    "\n",
    "try:\n",
    "    print(\"▶️ Running graph: Please manually interrupt during Step 2...\")\n",
    "    graph.invoke({\"input\": \"start\"}, config={\"configurable\": {\"thread_id\": 'thread-1'}})\n",
    "except KeyboardInterrupt:\n",
    "    print(\"❌ Kernel manually interrupted (crash simulated).\")"
   ]
  },
  {
   "cell_type": "code",
   "execution_count": null,
   "id": "b4368f45",
   "metadata": {},
   "outputs": [
    {
     "name": "stdout",
     "output_type": "stream",
     "text": [
      "\n",
      "🔁 Re-running the graph to demonstrate fault tolerance...\n"
     ]
    },
    {
     "ename": "NameError",
     "evalue": "name 'graph' is not defined",
     "output_type": "error",
     "traceback": [
      "\u001b[1;31m---------------------------------------------------------------------------\u001b[0m",
      "\u001b[1;31mNameError\u001b[0m                                 Traceback (most recent call last)",
      "Cell \u001b[1;32mIn[1], line 3\u001b[0m\n\u001b[0;32m      1\u001b[0m \u001b[38;5;66;03m# 6. Re-run to show fault-tolerant resume\u001b[39;00m\n\u001b[0;32m      2\u001b[0m \u001b[38;5;28mprint\u001b[39m(\u001b[38;5;124m\"\u001b[39m\u001b[38;5;130;01m\\n\u001b[39;00m\u001b[38;5;124m🔁 Re-running the graph to demonstrate fault tolerance...\u001b[39m\u001b[38;5;124m\"\u001b[39m)\n\u001b[1;32m----> 3\u001b[0m final_state \u001b[38;5;241m=\u001b[39m \u001b[43mgraph\u001b[49m\u001b[38;5;241m.\u001b[39minvoke(\u001b[38;5;28;01mNone\u001b[39;00m, config\u001b[38;5;241m=\u001b[39m{\u001b[38;5;124m\"\u001b[39m\u001b[38;5;124mconfigurable\u001b[39m\u001b[38;5;124m\"\u001b[39m: {\u001b[38;5;124m\"\u001b[39m\u001b[38;5;124mthread_id\u001b[39m\u001b[38;5;124m\"\u001b[39m: \u001b[38;5;124m'\u001b[39m\u001b[38;5;124mthread-1\u001b[39m\u001b[38;5;124m'\u001b[39m}})\n\u001b[0;32m      4\u001b[0m \u001b[38;5;28mprint\u001b[39m(\u001b[38;5;124m\"\u001b[39m\u001b[38;5;130;01m\\n\u001b[39;00m\u001b[38;5;124m✅ Final State:\u001b[39m\u001b[38;5;124m\"\u001b[39m, final_state)\n",
      "\u001b[1;31mNameError\u001b[0m: name 'graph' is not defined"
     ]
    }
   ],
   "source": [
    "\n",
    "# 6. Re-run to show fault-tolerant resume\n",
    "print(\"\\n🔁 Re-running the graph to demonstrate fault tolerance...\")\n",
    "final_state = graph.invoke(None, config={\"configurable\": {\"thread_id\": 'thread-1'}})\n",
    "print(\"\\n✅ Final State:\", final_state)"
   ]
  },
  {
   "cell_type": "code",
   "execution_count": null,
   "id": "2700f5d0",
   "metadata": {},
   "outputs": [],
   "source": [
    "list(graph.get_state_history({\"configurable\": {\"thread_id\": 'thread-1'}}))"
   ]
  }
 ],
 "metadata": {
  "kernelspec": {
   "display_name": "myenv (3.10.6)",
   "language": "python",
   "name": "python3"
  },
  "language_info": {
   "codemirror_mode": {
    "name": "ipython",
    "version": 3
   },
   "file_extension": ".py",
   "mimetype": "text/x-python",
   "name": "python",
   "nbconvert_exporter": "python",
   "pygments_lexer": "ipython3",
   "version": "3.10.6"
  }
 },
 "nbformat": 4,
 "nbformat_minor": 5
}
