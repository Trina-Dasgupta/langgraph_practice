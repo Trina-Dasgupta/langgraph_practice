{
 "cells": [
  {
   "cell_type": "code",
   "execution_count": 1,
   "id": "a654c096",
   "metadata": {},
   "outputs": [],
   "source": [
    "from langgraph.graph import StateGraph,START,END\n",
    "from langchain_openai import ChatOpenAI\n",
    "from typing import TypedDict\n",
    "from dotenv import load_dotenv\n"
   ]
  },
  {
   "cell_type": "code",
   "execution_count": 2,
   "id": "789be3dc",
   "metadata": {},
   "outputs": [
    {
     "data": {
      "text/plain": [
       "True"
      ]
     },
     "execution_count": 2,
     "metadata": {},
     "output_type": "execute_result"
    }
   ],
   "source": [
    "load_dotenv()"
   ]
  },
  {
   "cell_type": "code",
   "execution_count": 3,
   "id": "7b006dca",
   "metadata": {},
   "outputs": [],
   "source": [
    "model=ChatOpenAI()"
   ]
  },
  {
   "cell_type": "code",
   "execution_count": 4,
   "id": "67e6b469",
   "metadata": {},
   "outputs": [],
   "source": [
    "#create a state\n",
    "class LLMState(TypedDict):\n",
    "    question:str\n",
    "    answer:str\n"
   ]
  },
  {
   "cell_type": "code",
   "execution_count": 5,
   "id": "b2d42fb4",
   "metadata": {},
   "outputs": [],
   "source": [
    "def llm_qa(state:LLMState)->LLMState:\n",
    "    #extract the question from state\n",
    "    question=state[\"question\"]\n",
    "    #form a prompt\n",
    "    prompt=f'Answer the following question: {question}'\n",
    "\n",
    "    #ask that question to the LLM\n",
    "    answer=model.invoke(prompt).content\n",
    "\n",
    "    #update the answer to the state\n",
    "    state[\"answer\"]=answer\n",
    "    return state\n"
   ]
  },
  {
   "cell_type": "code",
   "execution_count": 6,
   "id": "66570dab",
   "metadata": {},
   "outputs": [],
   "source": [
    "#create our graph\n",
    "graph=StateGraph(LLMState)\n",
    "\n",
    "#add  nodes\n",
    "graph.add_node(\"llm_qa\",llm_qa)\n",
    "\n",
    "#add edges\n",
    "graph.add_edge(START,\"llm_qa\")\n",
    "graph.add_edge(\"llm_qa\",END)\n",
    "\n",
    "#compile the graph\n",
    "workflow=graph.compile()"
   ]
  },
  {
   "cell_type": "code",
   "execution_count": 7,
   "id": "501bf773",
   "metadata": {},
   "outputs": [
    {
     "name": "stdout",
     "output_type": "stream",
     "text": [
      "{'question': 'How far is the moon from the earth?', 'answer': 'The average distance from the moon to the earth is about 238,855 miles (384,400 kilometers).'}\n"
     ]
    }
   ],
   "source": [
    "#execute\n",
    "initial_state={'question':'How far is the moon from the earth?'}\n",
    "final_state=workflow.invoke(initial_state)\n",
    "print(final_state)"
   ]
  },
  {
   "cell_type": "code",
   "execution_count": 8,
   "id": "30d4a84c",
   "metadata": {},
   "outputs": [
    {
     "data": {
      "text/plain": [
       "'As of October 2021, the President of the United States is Joe Biden.'"
      ]
     },
     "execution_count": 8,
     "metadata": {},
     "output_type": "execute_result"
    }
   ],
   "source": [
    "model.invoke('Who is the president of the US?').content"
   ]
  }
 ],
 "metadata": {
  "kernelspec": {
   "display_name": "myenv (3.10.6)",
   "language": "python",
   "name": "python3"
  },
  "language_info": {
   "codemirror_mode": {
    "name": "ipython",
    "version": 3
   },
   "file_extension": ".py",
   "mimetype": "text/x-python",
   "name": "python",
   "nbconvert_exporter": "python",
   "pygments_lexer": "ipython3",
   "version": "3.10.6"
  }
 },
 "nbformat": 4,
 "nbformat_minor": 5
}
