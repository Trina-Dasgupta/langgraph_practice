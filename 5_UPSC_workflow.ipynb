{
 "cells": [
  {
   "cell_type": "code",
   "execution_count": 22,
   "id": "e3c97df1",
   "metadata": {},
   "outputs": [],
   "source": [
    "from langgraph.graph import StateGraph,START,END\n",
    "from langchain_openai import ChatOpenAI\n",
    "from dotenv import load_dotenv\n",
    "from typing import TypedDict,Annotated\n",
    "from pydantic import BaseModel,Field\n",
    "import operator"
   ]
  },
  {
   "cell_type": "code",
   "execution_count": 23,
   "id": "1f0f7c88",
   "metadata": {},
   "outputs": [],
   "source": [
    "load_dotenv()\n",
    "model=ChatOpenAI(model='gpt-4o-mini')"
   ]
  },
  {
   "cell_type": "code",
   "execution_count": 24,
   "id": "86e570d8",
   "metadata": {},
   "outputs": [],
   "source": [
    "class EvaluationSchema(BaseModel):\n",
    "    feedback:str=Field(description='Detailed feedback for the essay')\n",
    "    score:int=Field(description='Score out of 10',ge=0,le=10)"
   ]
  },
  {
   "cell_type": "code",
   "execution_count": 25,
   "id": "0198141b",
   "metadata": {},
   "outputs": [],
   "source": [
    "strucured_model=model.with_structured_output(EvaluationSchema)"
   ]
  },
  {
   "cell_type": "code",
   "execution_count": 26,
   "id": "5b8e1d5b",
   "metadata": {},
   "outputs": [],
   "source": [
    "essay=\"\"\"\n",
    "Artificial Intelligence (AI) is revolutionizing the world, and India is no exception. From healthcare and agriculture to education and governance, AI is playing an increasingly vital role in transforming the way India operates. With a rapidly growing digital economy, a massive population, and a large pool of tech talent, India is uniquely positioned to become a global leader in AI.\n",
    "\n",
    "1. AI in Governance and Public Services\n",
    "\n",
    "The Government of India is actively promoting the use of AI for improving governance and public services. Initiatives like Digital India and AI for All, led by NITI Aayog, aim to integrate AI in areas such as healthcare, education, agriculture, and smart cities. For example, AI-based systems are being used to detect tax fraud, improve traffic management in urban areas, and predict crime patterns.\n",
    "\n",
    "2. AI in Healthcare\n",
    "\n",
    "India’s healthcare system faces many challenges, including lack of access in rural areas and shortage of doctors. AI can bridge this gap. Tools like AI-based diagnostics, predictive analytics for disease outbreaks, and robotic surgeries are becoming more common. For instance, AI models can help detect diseases like tuberculosis or cancer at an early stage, saving countless lives.\n",
    "\n",
    "3. AI in Agriculture\n",
    "\n",
    "Agriculture is the backbone of India’s economy, and AI is helping farmers improve crop yields and manage resources efficiently. With AI-powered weather forecasts, soil analysis, and pest detection, farmers can make informed decisions. Platforms like Kisan Suvidha use AI to offer real-time information about market prices, weather, and best practices.\n",
    "\n",
    "4. AI in Education\n",
    "\n",
    "AI is reshaping the Indian education system by offering personalized learning experiences. Edtech companies are using AI to analyze students' performance and suggest customized learning paths. AI-driven chatbots are also being used for student support and counseling. This is especially important in rural areas where qualified teachers may be lacking.\n",
    "\n",
    "5. AI in Industry and Employment\n",
    "\n",
    "Industries such as finance, manufacturing, and logistics are rapidly adopting AI to improve efficiency and reduce costs. However, there is also concern about job displacement due to automation. To address this, India is investing in skilling and reskilling programs to prepare its workforce for the AI-driven future. The National Skill Development Corporation (NSDC) and private companies are offering AI and machine learning courses to students and professionals.\n",
    "\n",
    "6. Challenges and the Way Forward\n",
    "\n",
    "Despite its potential, the adoption of AI in India faces several challenges, including lack of infrastructure, data privacy concerns, and low awareness among the general public. There is also a digital divide between urban and rural areas. To overcome these, India needs stronger policies, investment in AI research, and ethical guidelines to ensure AI is used responsibly.\n",
    "\n",
    "Conclusion\n",
    "\n",
    "Artificial Intelligence has the potential to significantly impact India's growth and development. With the right policies, investment, and education, AI can help solve some of India's biggest problems—whether it's in health, education, agriculture, or governance. India must continue to embrace AI not just as a tool of technology, but as a driver of inclusive and sustainable growth.\n",
    "\"\"\""
   ]
  },
  {
   "cell_type": "code",
   "execution_count": 27,
   "id": "a5592181",
   "metadata": {},
   "outputs": [
    {
     "data": {
      "text/plain": [
       "EvaluationSchema(feedback=\"The essay presents a well-structured overview of the impact of Artificial Intelligence (AI) in various sectors in India, including governance, healthcare, agriculture, education, and industry. The language used is clear and concise, making the complex topic accessible to a wide audience. However, there are some areas for improvement:\\\\n\\\\n1. **Clarity and Style**: While the essay is overall clear, some sentences could be more concise to enhance readability. For example, the phrase 'AI is playing an increasingly vital role in transforming the way India operates' could be simplified to 'AI is transforming India's operations.'\\\\n\\\\n2. **Engagement and Depth**: Each section provides good examples, but a deeper analysis of the implications of AI adoption would enhance the essay. Discussing both the positive and negative consequences, especially more specific case studies, could provide a more nuanced perspective. \\\\n\\\\n3. **Transitions and Flow**: The essay flows logically from one section to another but could benefit from smoother transitions. Using transitional phrases would help guide the reader more effectively through the various topics.\\\\n\\\\n4. **Conclusion Strength**: The conclusion effectively summarizes the main points but could be more compelling with a stronger, forward-looking statement or call to action. Adding specific recommendations for policy changes could enhance the takeaway message.\\\\n\\\\nOverall, the essay successfully outlines the potential of AI in India while highlighting challenges; however, with minor adjustments in clarity, style, depth, and flow, it could be even more effective.\", score=7)"
      ]
     },
     "execution_count": 27,
     "metadata": {},
     "output_type": "execute_result"
    }
   ],
   "source": [
    "prompt=f'Evaluate the language quality of the following essay and provide a feedback and assign a score out of 10 \\n {essay}'\n",
    "strucured_model.invoke(prompt)"
   ]
  },
  {
   "cell_type": "code",
   "execution_count": 28,
   "id": "9cee1788",
   "metadata": {},
   "outputs": [
    {
     "data": {
      "text/plain": [
       "\"The essay is well-structured and covers significant aspects of how artificial intelligence (AI) is influencing various sectors in India, including governance, healthcare, agriculture, education, and industry. Each section is clear and provides relevant examples, which strengthens the argument. The language used is mostly clear and formal, appropriate for an academic or analytical piece. However, there are areas for improvement:\\n\\n1. **Clarity and Cohesion**: While the sections are well-defined, a strong thesis statement in the introduction could help unify the essay. The transitions between paragraphs can be smoother to enhance coherence.\\n2. **Depth of Analysis**: Some sections, especially on governance and education, could benefit from deeper analysis or additional examples to illustrate the impacts of AI.\\n3. **Grammar and Style**: There are minor grammatical issues and repetitive phrases such as 'AI is helping' or 'AI is being used' that could be varied to enhance the overall style. Some sentences could be more concise for better readability.\\n4. **Counterarguments**: Including potential downsides or challenges related to the reliance on AI (beyond what is mentioned in the challenges section) could provide a more balanced view.\\n\\nOverall, the essay is informative and provides a strong overview of the topic, but it would benefit from improved depth, cohesion, and linguistic variety.\""
      ]
     },
     "execution_count": 28,
     "metadata": {},
     "output_type": "execute_result"
    }
   ],
   "source": [
    "strucured_model.invoke(prompt).feedback"
   ]
  },
  {
   "cell_type": "code",
   "execution_count": 29,
   "id": "35b21fa9",
   "metadata": {},
   "outputs": [
    {
     "data": {
      "text/plain": [
       "8"
      ]
     },
     "execution_count": 29,
     "metadata": {},
     "output_type": "execute_result"
    }
   ],
   "source": [
    "strucured_model.invoke(prompt).score\n"
   ]
  },
  {
   "cell_type": "code",
   "execution_count": 31,
   "id": "f7aa3790",
   "metadata": {},
   "outputs": [],
   "source": [
    "class UPSCState(TypedDict):\n",
    "    essay:str\n",
    "    language_feedback:str\n",
    "    analysis_feedback:str\n",
    "    clarity_feedback:str\n",
    "    overall_feedback:str\n",
    "    individual_scores:Annotated[list[int],operator.add]\n",
    "    avg_score:float"
   ]
  },
  {
   "cell_type": "code",
   "execution_count": 32,
   "id": "68e0348c",
   "metadata": {},
   "outputs": [],
   "source": [
    "def evaluate_language(state:UPSCState)->UPSCState:\n",
    "    prompt=f'Evaluate the language quality of the following essay and provide a feedback and assign a score out of 10 \\n {state[\"essay\"]}'\n",
    "    output=strucured_model.invoke(prompt)\n",
    "    return {'language_feedback':output.feedback,'individual_scores':[output.score]}\n"
   ]
  },
  {
   "cell_type": "code",
   "execution_count": 33,
   "id": "65271571",
   "metadata": {},
   "outputs": [],
   "source": [
    "def evaluate_analysis(state:UPSCState)->UPSCState:\n",
    "    prompt=f'Evaluate the depth of analysis of the following essay and provide a feedback and assign a score out of 10 \\n {state[\"essay\"]}'\n",
    "    output=strucured_model.invoke(prompt)\n",
    "    return {'analysis_feedback':output.feedback,'individual_scores':[output.score]}\n"
   ]
  },
  {
   "cell_type": "code",
   "execution_count": 34,
   "id": "487522e5",
   "metadata": {},
   "outputs": [],
   "source": [
    "def evaluate_thought(state:UPSCState)->UPSCState:\n",
    "    prompt=f'Evaluate the clarity of thought of the following essay and provide a feedback and assign a score out of 10 \\n {state[\"essay\"]}'\n",
    "    output=strucured_model.invoke(prompt)\n",
    "    return {'clarity_feedback':output.feedback,'individual_scores':[output.score]}\n"
   ]
  },
  {
   "cell_type": "code",
   "execution_count": 36,
   "id": "7abf0a49",
   "metadata": {},
   "outputs": [],
   "source": [
    "def final_evaluation(state:UPSCState)->UPSCState:\n",
    "    #summary feedback\n",
    "    prompt=f\"Based on the following feedbacks create a summarized feedback \\n language feedback -{state['language_feedback']} \\n depth of analysis feedback - {state['analysis_feedback']} \\n clarity of thought feedback - {state['clarity_feedback']}\"\n",
    "    overall_feedback=model.invoke(prompt).content\n",
    "    #avg calculate\n",
    "    avg_score=sum(state['individual_scores'])/len(state['individual_scores'])\n",
    "    return {'overall_feedback':overall_feedback,'avg_score':avg_score}"
   ]
  },
  {
   "cell_type": "code",
   "execution_count": 37,
   "id": "87391888",
   "metadata": {},
   "outputs": [
    {
     "data": {
      "text/plain": [
       "<langgraph.graph.state.StateGraph at 0x215140c9ed0>"
      ]
     },
     "execution_count": 37,
     "metadata": {},
     "output_type": "execute_result"
    }
   ],
   "source": [
    "graph=StateGraph(UPSCState)\n",
    "\n",
    "graph.add_node('evaluate_language',evaluate_language)\n",
    "graph.add_node('evaluate_analysis',evaluate_analysis)\n",
    "graph.add_node('evaluate_thought',evaluate_thought)\n",
    "graph.add_node('final_evaluation',final_evaluation)"
   ]
  },
  {
   "cell_type": "code",
   "execution_count": 38,
   "id": "c325db40",
   "metadata": {},
   "outputs": [
    {
     "data": {
      "image/png": "[encoded data removed]",
      "text/plain": [
       "<langgraph.graph.state.CompiledStateGraph object at 0x000002151411C5E0>"
      ]
     },
     "execution_count": 38,
     "metadata": {},
     "output_type": "execute_result"
    }
   ],
   "source": [
    "graph.add_edge(START,'evaluate_language')\n",
    "graph.add_edge(START,'evaluate_analysis')\n",
    "graph.add_edge(START,'evaluate_thought')\n",
    "\n",
    "graph.add_edge('evaluate_language','final_evaluation')\n",
    "graph.add_edge('evaluate_analysis','final_evaluation')\n",
    "graph.add_edge('evaluate_thought','final_evaluation')\n",
    "graph.add_edge('final_evaluation',END)\n",
    "\n",
    "workflow=graph.compile()\n",
    "workflow"
   ]
  },
  {
   "cell_type": "code",
   "execution_count": 39,
   "id": "54ca6c52",
   "metadata": {},
   "outputs": [
    {
     "data": {
      "text/plain": [
       "{'essay': \"\\nArtificial Intelligence (AI) is revolutionizing the world, and India is no exception. From healthcare and agriculture to education and governance, AI is playing an increasingly vital role in transforming the way India operates. With a rapidly growing digital economy, a massive population, and a large pool of tech talent, India is uniquely positioned to become a global leader in AI.\\n\\n1. AI in Governance and Public Services\\n\\nThe Government of India is actively promoting the use of AI for improving governance and public services. Initiatives like Digital India and AI for All, led by NITI Aayog, aim to integrate AI in areas such as healthcare, education, agriculture, and smart cities. For example, AI-based systems are being used to detect tax fraud, improve traffic management in urban areas, and predict crime patterns.\\n\\n2. AI in Healthcare\\n\\nIndia’s healthcare system faces many challenges, including lack of access in rural areas and shortage of doctors. AI can bridge this gap. Tools like AI-based diagnostics, predictive analytics for disease outbreaks, and robotic surgeries are becoming more common. For instance, AI models can help detect diseases like tuberculosis or cancer at an early stage, saving countless lives.\\n\\n3. AI in Agriculture\\n\\nAgriculture is the backbone of India’s economy, and AI is helping farmers improve crop yields and manage resources efficiently. With AI-powered weather forecasts, soil analysis, and pest detection, farmers can make informed decisions. Platforms like Kisan Suvidha use AI to offer real-time information about market prices, weather, and best practices.\\n\\n4. AI in Education\\n\\nAI is reshaping the Indian education system by offering personalized learning experiences. Edtech companies are using AI to analyze students' performance and suggest customized learning paths. AI-driven chatbots are also being used for student support and counseling. This is especially important in rural areas where qualified teachers may be lacking.\\n\\n5. AI in Industry and Employment\\n\\nIndustries such as finance, manufacturing, and logistics are rapidly adopting AI to improve efficiency and reduce costs. However, there is also concern about job displacement due to automation. To address this, India is investing in skilling and reskilling programs to prepare its workforce for the AI-driven future. The National Skill Development Corporation (NSDC) and private companies are offering AI and machine learning courses to students and professionals.\\n\\n6. Challenges and the Way Forward\\n\\nDespite its potential, the adoption of AI in India faces several challenges, including lack of infrastructure, data privacy concerns, and low awareness among the general public. There is also a digital divide between urban and rural areas. To overcome these, India needs stronger policies, investment in AI research, and ethical guidelines to ensure AI is used responsibly.\\n\\nConclusion\\n\\nArtificial Intelligence has the potential to significantly impact India's growth and development. With the right policies, investment, and education, AI can help solve some of India's biggest problems—whether it's in health, education, agriculture, or governance. India must continue to embrace AI not just as a tool of technology, but as a driver of inclusive and sustainable growth.\\n\",\n",
       " 'language_feedback': 'The essay provides an insightful overview into the role that Artificial Intelligence (AI) plays across various sectors in India, supported by relevant examples. The structure is clear and logical, with distinct sections for governance, healthcare, agriculture, education, and industrial impacts, followed by a discussion on challenges and the way forward. However, while the language is generally coherent and formal, there are areas where improvements can be made. For instance, certain sentences could be more concise to enhance readability. Some phrases, such as \"AI can bridge this gap,\" could be expressed with more specificity regarding how AI addresses the challenges mentioned. Additionally, there’s room for deeper analysis in some sections to provide a more nuanced understanding of AI\\'s impact, particularly regarding the challenges it presents. The conclusion is effective, reiterating the importance of AI, but could benefit from a stronger closing statement that emphasizes India\\'s unique position to leverage AI technology. Overall, the essay is well-organized but could improve through deeper exploration of critical points and enhancements in language precision.',\n",
       " 'analysis_feedback': 'The essay provides a well-structured overview of the various domains where AI is impacting India, including governance, healthcare, agriculture, education, and industry. Each section introduces relevant applications of AI and highlights specific examples, demonstrating a clear understanding of the topics discussed. However, the analysis could benefit from deeper insights into the potential consequences of AI adoption, such as ethical implications or societal impact. For instance, while job displacement is mentioned, it could be explored further with statistics or case studies to strengthen the argument. Additionally, the section on challenges is somewhat superficial and could delve deeper into the implications of infrastructure and data privacy issues. Ultimately, while the essay covers the essential points effectively, it lacks a more thorough examination and critical perspective, which could elevate its analysis. Overall, a solid piece that could be improved with more depth and nuance.',\n",
       " 'clarity_feedback': 'The essay provides a clear overview of the impact of Artificial Intelligence (AI) across various sectors in India, such as governance, healthcare, agriculture, and education. It distinctly outlines the potential benefits and applications of AI, illustrating its significance with specific examples, such as the use of AI in detecting diseases and improving agricultural practices. \\n\\nHowever, while the structure is logical and systematic, clarity could be enhanced by more explicitly linking the points made in individual sections back to the thesis, particularly in the \"Challenges and the Way Forward\" section. Additionally, the discussion of challenges could benefit from greater depth and examples, as well as more specific recommendations for addressing those challenges.\\n\\nOverall, the essay maintains a good flow and communicates ideas effectively but could be improved by enhancing the depth of analysis in some areas and better connecting themes throughout.',\n",
       " 'overall_feedback': '**Summarized Feedback:**\\n\\nThe essay presents a well-organized overview of the role of Artificial Intelligence (AI) across various sectors in India, including governance, healthcare, agriculture, education, and industry, using relevant examples to illustrate its significance. However, there are areas for improvement in language precision and depth of analysis. Some sentences could be made more concise to enhance readability, and phrases should be more specific regarding AI\\'s impact on challenges.\\n\\nThe analysis lacks depth in exploring the potential consequences of AI adoption, including ethical implications and societal impacts like job displacement. The section addressing challenges could be enriched with greater detail on infrastructure and data privacy issues. \\n\\nWhile the essay effectively communicates its main points, clarity could be improved by more explicitly linking individual sections back to the thesis and offering specific recommendations in the \"Challenges and the Way Forward\" section. Overall, enhancing the depth of analysis and coherence throughout the essay would significantly elevate its quality.',\n",
       " 'individual_scores': [7, 7, 7],\n",
       " 'avg_score': 7.0}"
      ]
     },
     "execution_count": 39,
     "metadata": {},
     "output_type": "execute_result"
    }
   ],
   "source": [
    "inital_state={'essay':essay}\n",
    "workflow.invoke(inital_state)"
   ]
  }
 ],
 "metadata": {
  "kernelspec": {
   "display_name": "myenv (3.10.6)",
   "language": "python",
   "name": "python3"
  },
  "language_info": {
   "codemirror_mode": {
    "name": "ipython",
    "version": 3
   },
   "file_extension": ".py",
   "mimetype": "text/x-python",
   "name": "python",
   "nbconvert_exporter": "python",
   "pygments_lexer": "ipython3",
   "version": "3.10.6"
  }
 },
 "nbformat": 4,
 "nbformat_minor": 5
}
